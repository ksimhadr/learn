{
  "nbformat": 4,
  "nbformat_minor": 0,
  "metadata": {
    "colab": {
      "provenance": [],
      "authorship_tag": "ABX9TyOTnJj/UGbS9BCkQfgcJlHc",
      "include_colab_link": true
    },
    "kernelspec": {
      "name": "python3",
      "display_name": "Python 3"
    },
    "language_info": {
      "name": "python"
    }
  },
  "cells": [
    {
      "cell_type": "markdown",
      "metadata": {
        "id": "view-in-github",
        "colab_type": "text"
      },
      "source": [
        "<a href=\"https://colab.research.google.com/github/ksimhadr/learn/blob/master/PythonLoopsandFunctions.ipynb\" target=\"_parent\"><img src=\"https://colab.research.google.com/assets/colab-badge.svg\" alt=\"Open In Colab\"/></a>"
      ]
    },
    {
      "cell_type": "markdown",
      "source": [
        "str(string; a sequence of characters enclosed in single quotes, double quotes, or triple quotes)\n",
        "\n",
        "\n",
        "*   'this is a string us\n",
        "*   List item\n",
        "\n",
        "in --> operator checks for membership"
      ],
      "metadata": {
        "id": "KlcTav_K7c9K"
      }
    },
    {
      "cell_type": "code",
      "source": [
        "x = {12, 12, 13}\n",
        "y = [1, 12, 13, 0, -12, -9, {12}]\n",
        "print(x in y)"
      ],
      "metadata": {
        "colab": {
          "base_uri": "https://localhost:8080/"
        },
        "id": "sqnGHCvf7O-s",
        "outputId": "b89d7f51-dcb4-49aa-e9cc-5ac57b170270"
      },
      "execution_count": 9,
      "outputs": [
        {
          "output_type": "stream",
          "name": "stdout",
          "text": [
            "False\n"
          ]
        }
      ]
    },
    {
      "cell_type": "code",
      "execution_count": 15,
      "metadata": {
        "colab": {
          "base_uri": "https://localhost:8080/"
        },
        "id": "uW61CtO87FY-",
        "outputId": "4ccf8e1f-b623-43ef-8e15-b2f21c656ad3"
      },
      "outputs": [
        {
          "output_type": "stream",
          "name": "stdout",
          "text": [
            "False\n",
            "True\n"
          ]
        }
      ],
      "source": [
        "x = [\"apple\", \"banana\", \"cherry\"]\n",
        "y = [[\"apple\", \"banana\", \"cherry\"], 0, 12, [\"grapes\", \"citroud\"]]\n",
        "z = [\"apple\", \"banana\", \"cherry\"]\n",
        "print(x is z) #is checks for objects identity; checks the id or actual references\n",
        "w = z\n",
        "print(w is z)\n"
      ]
    },
    {
      "cell_type": "markdown",
      "source": [
        "any() --> a function used for checking any value in the container or data structure is TRUE"
      ],
      "metadata": {
        "id": "jA3FhAjq98Re"
      }
    },
    {
      "cell_type": "code",
      "source": [
        "list1 = [1, 3, 5]\n",
        "list2 = [0,False,False]\n",
        "print(any(list1))\n",
        "print(any(list2))"
      ],
      "metadata": {
        "colab": {
          "base_uri": "https://localhost:8080/"
        },
        "id": "BQ3kw-9I-FdR",
        "outputId": "08d94061-317a-4679-d227-dc2aa7cc8067"
      },
      "execution_count": 18,
      "outputs": [
        {
          "output_type": "stream",
          "name": "stdout",
          "text": [
            "True\n",
            "False\n"
          ]
        }
      ]
    },
    {
      "cell_type": "markdown",
      "source": [
        "checking expression"
      ],
      "metadata": {
        "id": "Z8oyp0FS-di3"
      }
    },
    {
      "cell_type": "code",
      "source": [
        "#container can be a list or tuple or set or dict\n",
        "x = 6\n",
        "y = [1, 3, 6, -3, 11]\n",
        "\n",
        "#Write expression \"x in y\" can be written with using is keyword\n",
        "any(x is ele or x  == ele for ele in y)"
      ],
      "metadata": {
        "colab": {
          "base_uri": "https://localhost:8080/"
        },
        "id": "mt6jtPI1-dLg",
        "outputId": "d669b71a-9722-4894-a361-2719f59fa1d5"
      },
      "execution_count": 19,
      "outputs": [
        {
          "output_type": "execute_result",
          "data": {
            "text/plain": [
              "True"
            ]
          },
          "metadata": {},
          "execution_count": 19
        }
      ]
    },
    {
      "cell_type": "markdown",
      "source": [
        "len() --> how many items in the data structure/container"
      ],
      "metadata": {
        "id": "HNGjgbGr_fBK"
      }
    },
    {
      "cell_type": "code",
      "source": [
        "print(len([1, 3, 4, 6, 1, [3,5,6]]))\n",
        "list21 = [1, 3, 4, 6, 1, 3,5,6]\n",
        "len([1, 3, 4, 6, 1, 3,5,6])"
      ],
      "metadata": {
        "colab": {
          "base_uri": "https://localhost:8080/"
        },
        "id": "Vk4Wcip1_emW",
        "outputId": "8ba7ce35-a15d-4cd8-92bc-fd5b7c89759e"
      },
      "execution_count": 27,
      "outputs": [
        {
          "output_type": "stream",
          "name": "stdout",
          "text": [
            "6\n"
          ]
        },
        {
          "output_type": "execute_result",
          "data": {
            "text/plain": [
              "8"
            ]
          },
          "metadata": {},
          "execution_count": 27
        }
      ]
    },
    {
      "cell_type": "markdown",
      "source": [
        "callable --> function to determine if an object is callable"
      ],
      "metadata": {
        "id": "oncHXW3y_67L"
      }
    },
    {
      "cell_type": "code",
      "source": [
        "callable(len)"
      ],
      "metadata": {
        "colab": {
          "base_uri": "https://localhost:8080/"
        },
        "id": "y-32nvnXADTE",
        "outputId": "edf0b99f-f717-4bd8-da77-9c6043328464"
      },
      "execution_count": 23,
      "outputs": [
        {
          "output_type": "execute_result",
          "data": {
            "text/plain": [
              "True"
            ]
          },
          "metadata": {},
          "execution_count": 23
        }
      ]
    },
    {
      "cell_type": "code",
      "source": [
        "callable(x)"
      ],
      "metadata": {
        "colab": {
          "base_uri": "https://localhost:8080/"
        },
        "id": "b3Bl_s6QAF3u",
        "outputId": "fc08d90f-2fc1-48a6-d8b6-4418b4adffe5"
      },
      "execution_count": 24,
      "outputs": [
        {
          "output_type": "execute_result",
          "data": {
            "text/plain": [
              "False"
            ]
          },
          "metadata": {},
          "execution_count": 24
        }
      ]
    },
    {
      "cell_type": "markdown",
      "source": [
        "sorted() --> Function to return a newlist of container in sorted order"
      ],
      "metadata": {
        "id": "KtL_NnChAIIo"
      }
    },
    {
      "cell_type": "code",
      "source": [
        "list3 = sorted(list21)\n",
        "print(list3)\n",
        "sorted(['ts', 'TS', 'zebra', 'iitk', '01-20204'])"
      ],
      "metadata": {
        "colab": {
          "base_uri": "https://localhost:8080/"
        },
        "id": "0s67otrCAN3d",
        "outputId": "0bb71ae3-0cad-40f2-938a-687fd93cd894"
      },
      "execution_count": 29,
      "outputs": [
        {
          "output_type": "stream",
          "name": "stdout",
          "text": [
            "[1, 1, 3, 3, 4, 5, 6, 6]\n"
          ]
        },
        {
          "output_type": "execute_result",
          "data": {
            "text/plain": [
              "['01-20204', 'TS', 'iitk', 'ts', 'zebra']"
            ]
          },
          "metadata": {},
          "execution_count": 29
        }
      ]
    },
    {
      "cell_type": "markdown",
      "source": [
        "min() --> get the smallest item in data structure/operator"
      ],
      "metadata": {
        "id": "eOywiX2MAxi8"
      }
    },
    {
      "cell_type": "code",
      "source": [
        "min(['m', 'a', 'z', 'A', 'Z'])"
      ],
      "metadata": {
        "colab": {
          "base_uri": "https://localhost:8080/",
          "height": 35
        },
        "id": "FGG73n9VA3O3",
        "outputId": "5c050897-12d8-4a86-cc06-fc7e6741b74b"
      },
      "execution_count": 30,
      "outputs": [
        {
          "output_type": "execute_result",
          "data": {
            "text/plain": [
              "'A'"
            ],
            "application/vnd.google.colaboratory.intrinsic+json": {
              "type": "string"
            }
          },
          "metadata": {},
          "execution_count": 30
        }
      ]
    },
    {
      "cell_type": "markdown",
      "source": [
        "explore()\n",
        "max()\n",
        "abs()\n",
        "repr() --> returns a string representation of an object"
      ],
      "metadata": {
        "id": "Pn429OQiBDMC"
      }
    },
    {
      "cell_type": "code",
      "source": [
        "repr(list3)"
      ],
      "metadata": {
        "colab": {
          "base_uri": "https://localhost:8080/",
          "height": 35
        },
        "id": "tOy2Wcg2BHHL",
        "outputId": "0a2ac8ed-3e0f-431a-e40c-2a165b1a083b"
      },
      "execution_count": 32,
      "outputs": [
        {
          "output_type": "execute_result",
          "data": {
            "text/plain": [
              "'[1, 1, 3, 3, 4, 5, 6, 6]'"
            ],
            "application/vnd.google.colaboratory.intrinsic+json": {
              "type": "string"
            }
          },
          "metadata": {},
          "execution_count": 32
        }
      ]
    },
    {
      "cell_type": "markdown",
      "source": [
        "####FUNCTIONS"
      ],
      "metadata": {
        "id": "aFzg-bLqBXeg"
      }
    },
    {
      "cell_type": "code",
      "source": [
        "def fun1(arg1, arg2):\n",
        "  \"\"\"\n",
        "  Put this string here describing working functionality of the function. Known as DocString\n",
        "\n",
        "  \"\"\"\n",
        "  print(arg1 + \" learns from their \" + arg2 + \"!\")\n",
        "  return"
      ],
      "metadata": {
        "id": "Z_3hk-o0BZoL"
      },
      "execution_count": 34,
      "outputs": []
    },
    {
      "cell_type": "code",
      "source": [
        "fun1('Python', 'Data Science')"
      ],
      "metadata": {
        "colab": {
          "base_uri": "https://localhost:8080/"
        },
        "id": "6x0u1QuZB-WH",
        "outputId": "4db3ce23-549a-48f2-e03f-93b3e3e792a8"
      },
      "execution_count": 35,
      "outputs": [
        {
          "output_type": "stream",
          "name": "stdout",
          "text": [
            "Python learns from their Data Science!\n"
          ]
        }
      ]
    },
    {
      "cell_type": "code",
      "source": [
        "help(fun1)"
      ],
      "metadata": {
        "colab": {
          "base_uri": "https://localhost:8080/"
        },
        "id": "iTYKY8vbCLz6",
        "outputId": "d880e0ac-651a-4cb5-bbaf-88c5ad1106e9"
      },
      "execution_count": 36,
      "outputs": [
        {
          "output_type": "stream",
          "name": "stdout",
          "text": [
            "Help on function fun1 in module __main__:\n",
            "\n",
            "fun1(arg1, arg2)\n",
            "    Put this string here describing working functionality of the function\n",
            "\n"
          ]
        }
      ]
    },
    {
      "cell_type": "code",
      "source": [
        "def powers(x):\n",
        "  \"\"\"\n",
        "  Returns more power to the user.\n",
        "\n",
        "  \"\"\"\n",
        "  return x ** 2, x ** 3, x ** 4"
      ],
      "metadata": {
        "id": "KHcpnG2xCYyL"
      },
      "execution_count": 37,
      "outputs": []
    },
    {
      "cell_type": "code",
      "source": [
        "powers(2) #gives default TUPLES"
      ],
      "metadata": {
        "colab": {
          "base_uri": "https://localhost:8080/"
        },
        "id": "TdxVBLVxCiIn",
        "outputId": "56b49e3f-891b-4efd-f2c0-f3370c5a6c66"
      },
      "execution_count": 38,
      "outputs": [
        {
          "output_type": "execute_result",
          "data": {
            "text/plain": [
              "(4, 8, 16)"
            ]
          },
          "metadata": {},
          "execution_count": 38
        }
      ]
    },
    {
      "cell_type": "code",
      "source": [
        "x2, x3, x4 = powers(3)\n",
        "print(x3)"
      ],
      "metadata": {
        "colab": {
          "base_uri": "https://localhost:8080/"
        },
        "id": "AS5pNElUCrt8",
        "outputId": "64ec5f04-63c6-43cb-ee26-18d36c327c92"
      },
      "execution_count": 39,
      "outputs": [
        {
          "output_type": "stream",
          "name": "stdout",
          "text": [
            "27\n"
          ]
        }
      ]
    },
    {
      "cell_type": "code",
      "source": [
        "x = 3\n",
        "def foo():\n",
        "  x = 4\n",
        "  def bar(): #access x values from foo()'s scope\n",
        "      print(x)\n",
        "\n",
        "\n",
        "  bar()\n",
        "  x = 5\n",
        "  bar()"
      ],
      "metadata": {
        "id": "9TNhdjI0C19I"
      },
      "execution_count": 44,
      "outputs": []
    },
    {
      "cell_type": "code",
      "source": [
        "foo()"
      ],
      "metadata": {
        "colab": {
          "base_uri": "https://localhost:8080/"
        },
        "id": "_0v8eK6pIitX",
        "outputId": "e1d0e7a6-a3dc-4880-f2a6-1ed7199a418c"
      },
      "execution_count": 45,
      "outputs": [
        {
          "output_type": "stream",
          "name": "stdout",
          "text": [
            "4\n",
            "5\n"
          ]
        }
      ]
    },
    {
      "cell_type": "markdown",
      "source": [
        "Unnamed Functions (lambda functions)"
      ],
      "metadata": {
        "id": "T4V8u9BaIlDL"
      }
    },
    {
      "cell_type": "code",
      "source": [
        "def f2(x):\n",
        "  return x ** 2\n",
        "\n",
        "f1 = lambda x: x**2"
      ],
      "metadata": {
        "id": "tpLL3K5YIkhS"
      },
      "execution_count": 46,
      "outputs": []
    },
    {
      "cell_type": "code",
      "source": [
        "f2(2)"
      ],
      "metadata": {
        "colab": {
          "base_uri": "https://localhost:8080/"
        },
        "id": "nb-xUbC5Iv97",
        "outputId": "0348e64c-fd71-4106-df20-4d39b1969eee"
      },
      "execution_count": 47,
      "outputs": [
        {
          "output_type": "execute_result",
          "data": {
            "text/plain": [
              "4"
            ]
          },
          "metadata": {},
          "execution_count": 47
        }
      ]
    },
    {
      "cell_type": "code",
      "source": [
        "f1(2)"
      ],
      "metadata": {
        "colab": {
          "base_uri": "https://localhost:8080/"
        },
        "id": "0Ohodx1QI0gY",
        "outputId": "f44d6c9c-4855-4149-fe4a-ac60453f8ed9"
      },
      "execution_count": 48,
      "outputs": [
        {
          "output_type": "execute_result",
          "data": {
            "text/plain": [
              "4"
            ]
          },
          "metadata": {},
          "execution_count": 48
        }
      ]
    },
    {
      "cell_type": "markdown",
      "source": [
        "def <lambda>(parameters):\n",
        "  return expression\n",
        "\n",
        "lambda_expre ::= \"lambda\" [parameter_list] \":\" expression"
      ],
      "metadata": {
        "id": "SJkBQ4MZJL7f"
      }
    },
    {
      "cell_type": "markdown",
      "source": [],
      "metadata": {
        "id": "yfbF3c98i77d"
      }
    },
    {
      "cell_type": "markdown",
      "source": [
        "#map() is a python function to modify every value in an iterable\n",
        "#map(function, iterable)\n",
        "\n",
        "#filter is a python function to use specific value in an iterable\n",
        "#filer(function, iterable)\n",
        "#In python, iterables are strings, dict, list, tuples, ranges. When working with iterables, lambda functions are used\n",
        "#in conjunction with filter and map"
      ],
      "metadata": {
        "id": "K-9NGNiVi51v"
      }
    },
    {
      "cell_type": "code",
      "source": [
        "\n",
        "help(map)"
      ],
      "metadata": {
        "colab": {
          "base_uri": "https://localhost:8080/"
        },
        "id": "nySdZQ1_JOGo",
        "outputId": "21aa7e9b-a04b-40a2-fa3e-7acee759cb44"
      },
      "execution_count": 49,
      "outputs": [
        {
          "output_type": "stream",
          "name": "stdout",
          "text": [
            "Help on class map in module builtins:\n",
            "\n",
            "class map(object)\n",
            " |  map(func, *iterables) --> map object\n",
            " |  \n",
            " |  Make an iterator that computes the function using arguments from\n",
            " |  each of the iterables.  Stops when the shortest iterable is exhausted.\n",
            " |  \n",
            " |  Methods defined here:\n",
            " |  \n",
            " |  __getattribute__(self, name, /)\n",
            " |      Return getattr(self, name).\n",
            " |  \n",
            " |  __iter__(self, /)\n",
            " |      Implement iter(self).\n",
            " |  \n",
            " |  __next__(self, /)\n",
            " |      Implement next(self).\n",
            " |  \n",
            " |  __reduce__(...)\n",
            " |      Return state information for pickling.\n",
            " |  \n",
            " |  ----------------------------------------------------------------------\n",
            " |  Static methods defined here:\n",
            " |  \n",
            " |  __new__(*args, **kwargs) from builtins.type\n",
            " |      Create and return a new object.  See help(type) for accurate signature.\n",
            "\n"
          ]
        }
      ]
    },
    {
      "cell_type": "code",
      "source": [
        "aa = map( lambda x: x ** 2, [1, 2, 3, 4])"
      ],
      "metadata": {
        "id": "bLeDxIW8I25E"
      },
      "execution_count": 51,
      "outputs": []
    },
    {
      "cell_type": "code",
      "source": [
        "print(aa)"
      ],
      "metadata": {
        "colab": {
          "base_uri": "https://localhost:8080/"
        },
        "id": "iCepjAG-JJRG",
        "outputId": "bd105bc0-2434-4873-d29f-8aa75c37dff3"
      },
      "execution_count": 52,
      "outputs": [
        {
          "output_type": "stream",
          "name": "stdout",
          "text": [
            "<map object at 0x7d1c59b494b0>\n"
          ]
        }
      ]
    },
    {
      "cell_type": "code",
      "source": [
        "callable(aa)"
      ],
      "metadata": {
        "colab": {
          "base_uri": "https://localhost:8080/"
        },
        "id": "8NCu9g69JJLp",
        "outputId": "269b8329-c4a6-443f-b706-cdbca098d101"
      },
      "execution_count": 53,
      "outputs": [
        {
          "output_type": "execute_result",
          "data": {
            "text/plain": [
              "False"
            ]
          },
          "metadata": {},
          "execution_count": 53
        }
      ]
    },
    {
      "cell_type": "code",
      "source": [
        "list(map(lambda x: x ** 2, [1, 2, 3, 4]))"
      ],
      "metadata": {
        "colab": {
          "base_uri": "https://localhost:8080/"
        },
        "id": "9FQG8UeeKPTk",
        "outputId": "7953654b-1f9b-4033-b2df-8d710723c3c3"
      },
      "execution_count": 57,
      "outputs": [
        {
          "output_type": "execute_result",
          "data": {
            "text/plain": [
              "[1, 4, 9, 16]"
            ]
          },
          "metadata": {},
          "execution_count": 57
        }
      ]
    },
    {
      "cell_type": "code",
      "source": [
        "def do_something(a, b =3, c=4):\n",
        "  return a + b + c\n"
      ],
      "metadata": {
        "id": "7xkGWjoBUFc4"
      },
      "execution_count": 58,
      "outputs": []
    },
    {
      "cell_type": "code",
      "source": [
        "do_something(2)"
      ],
      "metadata": {
        "colab": {
          "base_uri": "https://localhost:8080/"
        },
        "id": "q9CmOTd2UOHx",
        "outputId": "38287832-1963-454a-93de-44498351a12c"
      },
      "execution_count": 59,
      "outputs": [
        {
          "output_type": "execute_result",
          "data": {
            "text/plain": [
              "9"
            ]
          },
          "metadata": {},
          "execution_count": 59
        }
      ]
    },
    {
      "cell_type": "code",
      "source": [
        "do_something(2, -2, 12)"
      ],
      "metadata": {
        "colab": {
          "base_uri": "https://localhost:8080/"
        },
        "id": "rdS3FZLwUTBP",
        "outputId": "d1c84b82-ecdd-44c8-8118-c1c18befd92b"
      },
      "execution_count": 60,
      "outputs": [
        {
          "output_type": "execute_result",
          "data": {
            "text/plain": [
              "12"
            ]
          },
          "metadata": {},
          "execution_count": 60
        }
      ]
    },
    {
      "cell_type": "markdown",
      "source": [
        "###LOOPS"
      ],
      "metadata": {
        "id": "tJgrPl1gUXxy"
      }
    },
    {
      "cell_type": "code",
      "source": [
        "i = 0\n",
        "while i < 5:\n",
        "  print(i)\n",
        "  i += 1\n",
        "\n",
        "print('complete')"
      ],
      "metadata": {
        "colab": {
          "base_uri": "https://localhost:8080/"
        },
        "id": "QmgV4_dcUaKu",
        "outputId": "26c560c2-1e74-4876-f3be-a3623a14b4ae"
      },
      "execution_count": 61,
      "outputs": [
        {
          "output_type": "stream",
          "name": "stdout",
          "text": [
            "0\n",
            "1\n",
            "2\n",
            "3\n",
            "4\n",
            "complete\n"
          ]
        }
      ]
    },
    {
      "cell_type": "code",
      "source": [
        "for x in [1, 2, 4]:\n",
        "  print(x)"
      ],
      "metadata": {
        "colab": {
          "base_uri": "https://localhost:8080/"
        },
        "id": "-fwpaXW7UqUl",
        "outputId": "4600c064-b534-4b45-a538-2960fa7aa0e4"
      },
      "execution_count": 62,
      "outputs": [
        {
          "output_type": "stream",
          "name": "stdout",
          "text": [
            "1\n",
            "2\n",
            "4\n"
          ]
        }
      ]
    },
    {
      "cell_type": "code",
      "source": [
        "print(list(range(0,5)))"
      ],
      "metadata": {
        "colab": {
          "base_uri": "https://localhost:8080/"
        },
        "id": "Q-AGtjUeU5-5",
        "outputId": "58f11794-4b95-4909-e325-5d7dc32f6c3c"
      },
      "execution_count": 66,
      "outputs": [
        {
          "output_type": "stream",
          "name": "stdout",
          "text": [
            "[0, 1, 2, 3, 4]\n"
          ]
        }
      ]
    },
    {
      "cell_type": "code",
      "source": [
        "for x in range(4):\n",
        "  print(x)"
      ],
      "metadata": {
        "colab": {
          "base_uri": "https://localhost:8080/"
        },
        "id": "waHEd0MyVGDb",
        "outputId": "73f03ba6-fe13-4ce3-a88b-dae176398ab8"
      },
      "execution_count": 67,
      "outputs": [
        {
          "output_type": "stream",
          "name": "stdout",
          "text": [
            "0\n",
            "1\n",
            "2\n",
            "3\n"
          ]
        }
      ]
    },
    {
      "cell_type": "code",
      "source": [
        "for x in ['a', 1, 3, 'apple', 'T20']:\n",
        "  print(x)"
      ],
      "metadata": {
        "colab": {
          "base_uri": "https://localhost:8080/"
        },
        "id": "35NyWQSMVbwN",
        "outputId": "428302e5-4c8b-4bfe-dd29-62d1cfd300e4"
      },
      "execution_count": 68,
      "outputs": [
        {
          "output_type": "stream",
          "name": "stdout",
          "text": [
            "a\n",
            "1\n",
            "3\n",
            "apple\n",
            "T20\n"
          ]
        }
      ]
    },
    {
      "cell_type": "code",
      "source": [
        "sq_list = []\n",
        "for x in range(5):\n",
        "  sq_list.append(x ** 2)\n",
        "\n",
        "sq_list"
      ],
      "metadata": {
        "colab": {
          "base_uri": "https://localhost:8080/"
        },
        "id": "s-aZKS0fVsFw",
        "outputId": "8f642f25-b7a2-4d56-eae1-e53d0e21923e"
      },
      "execution_count": 69,
      "outputs": [
        {
          "output_type": "execute_result",
          "data": {
            "text/plain": [
              "[0, 1, 4, 9, 16]"
            ]
          },
          "metadata": {},
          "execution_count": 69
        }
      ]
    },
    {
      "cell_type": "code",
      "source": [
        "#list comprehension\n",
        "[x**2 for x in range(5)]"
      ],
      "metadata": {
        "colab": {
          "base_uri": "https://localhost:8080/"
        },
        "id": "uYG5hW4VWSpp",
        "outputId": "fc184f21-3662-487b-e3ff-ef6773356b4d"
      },
      "execution_count": 70,
      "outputs": [
        {
          "output_type": "execute_result",
          "data": {
            "text/plain": [
              "[0, 1, 4, 9, 16]"
            ]
          },
          "metadata": {},
          "execution_count": 70
        }
      ]
    },
    {
      "cell_type": "code",
      "source": [
        "#loop each elements in dictionary\n",
        "for idx, x in enumerate(range(-4, 4)): #enumerate gives index of each element in the list\n",
        "  print(idx, x)"
      ],
      "metadata": {
        "colab": {
          "base_uri": "https://localhost:8080/"
        },
        "id": "cDM9nIdVWdW6",
        "outputId": "bd2ca8cf-b7e8-44a3-e657-21d69da84cc1"
      },
      "execution_count": 72,
      "outputs": [
        {
          "output_type": "stream",
          "name": "stdout",
          "text": [
            "0 -4\n",
            "1 -3\n",
            "2 -2\n",
            "3 -1\n",
            "4 0\n",
            "5 1\n",
            "6 2\n",
            "7 3\n"
          ]
        }
      ]
    },
    {
      "cell_type": "code",
      "source": [
        "from random import random\n",
        "## elements which are greater than 10 in a given list\n",
        "list12 = []\n",
        "for x in range(0, 10):\n",
        "  list12.append(x)\n",
        "print(list12)\n",
        "any( ele > 3 for ele in list12)"
      ],
      "metadata": {
        "colab": {
          "base_uri": "https://localhost:8080/"
        },
        "id": "1n4nagXOXHHV",
        "outputId": "2c7f1a88-67d3-42de-8635-28439d7967dc"
      },
      "execution_count": 78,
      "outputs": [
        {
          "output_type": "stream",
          "name": "stdout",
          "text": [
            "[0, 1, 2, 3, 4, 5, 6, 7, 8, 9]\n"
          ]
        },
        {
          "output_type": "execute_result",
          "data": {
            "text/plain": [
              "True"
            ]
          },
          "metadata": {},
          "execution_count": 78
        }
      ]
    },
    {
      "cell_type": "code",
      "source": [
        "#ML model parameters are stored in dict\n",
        "#iterate parameters in dict\n",
        "\n",
        "param = {'w1': 0.34, 'w2': 0.002, 'b1': 2, 'b2': 2.2}\n",
        "param['b1']"
      ],
      "metadata": {
        "colab": {
          "base_uri": "https://localhost:8080/"
        },
        "id": "arGlsS34XFEU",
        "outputId": "7720fd29-96e1-42f6-ec5b-7b49fed07de3"
      },
      "execution_count": 79,
      "outputs": [
        {
          "output_type": "execute_result",
          "data": {
            "text/plain": [
              "2"
            ]
          },
          "metadata": {},
          "execution_count": 79
        }
      ]
    },
    {
      "cell_type": "code",
      "source": [
        "print(param.items())"
      ],
      "metadata": {
        "colab": {
          "base_uri": "https://localhost:8080/"
        },
        "id": "YJtnU_zXbFcr",
        "outputId": "e843c660-1b59-4863-f184-36380dc97ae3"
      },
      "execution_count": 80,
      "outputs": [
        {
          "output_type": "stream",
          "name": "stdout",
          "text": [
            "dict_items([('w1', 0.34), ('w2', 0.002), ('b1', 2), ('b2', 2.2)])\n"
          ]
        }
      ]
    },
    {
      "cell_type": "code",
      "source": [
        "for key, value in param.items():\n",
        "  print(key + \" = \" + str(value)) #repr(value)"
      ],
      "metadata": {
        "colab": {
          "base_uri": "https://localhost:8080/"
        },
        "id": "677kjRkFbMXD",
        "outputId": "d66e5299-b7b6-4987-ff5c-39a120ad03d4"
      },
      "execution_count": 82,
      "outputs": [
        {
          "output_type": "stream",
          "name": "stdout",
          "text": [
            "w1 = 0.34\n",
            "w2 = 0.002\n",
            "b1 = 2\n",
            "b2 = 2.2\n"
          ]
        }
      ]
    }
  ]
}
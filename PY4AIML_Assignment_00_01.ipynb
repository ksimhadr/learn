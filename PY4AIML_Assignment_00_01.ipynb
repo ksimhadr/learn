{
  "nbformat": 4,
  "nbformat_minor": 0,
  "metadata": {
    "colab": {
      "provenance": [],
      "include_colab_link": true
    },
    "kernelspec": {
      "name": "python3",
      "display_name": "Python 3"
    }
  },
  "cells": [
    {
      "cell_type": "markdown",
      "metadata": {
        "id": "view-in-github",
        "colab_type": "text"
      },
      "source": [
        "<a href=\"https://colab.research.google.com/github/ksimhadr/learn/blob/master/PY4AIML_Assignment_00_01.ipynb\" target=\"_parent\"><img src=\"https://colab.research.google.com/assets/colab-badge.svg\" alt=\"Open In Colab\"/></a>"
      ]
    },
    {
      "cell_type": "markdown",
      "source": [
        "##Assignment 00-1\n",
        "\n",
        "Write a function that returns the largest of its three integer arguments:"
      ],
      "metadata": {
        "id": "7Q84yartg-1j"
      }
    },
    {
      "cell_type": "code",
      "source": [
        "def best_of_3(a: int, b: int, c: int) -> int:\n",
        "    # Write code here\n",
        "    if a > b > c:\n",
        "        return a\n",
        "    elif b > a > c:\n",
        "        return b\n",
        "    else:\n",
        "        return c\n",
        "    return\n",
        "\n",
        "best_of_3(1, 2, 3)\n"
      ],
      "metadata": {
        "id": "RBnVNz2YhNo3",
        "outputId": "d0015af1-badd-4b72-efce-9aeec8a25e02",
        "colab": {
          "base_uri": "https://localhost:8080/"
        }
      },
      "execution_count": 1,
      "outputs": [
        {
          "output_type": "execute_result",
          "data": {
            "text/plain": [
              "3"
            ]
          },
          "metadata": {},
          "execution_count": 1
        }
      ]
    },
    {
      "cell_type": "code",
      "source": [
        "def large_of_3(a: int, b: int, c: int) -> int:\n",
        "    return max(a, b, c)\n",
        "\n",
        "large_of_3(1, 2, 3)"
      ],
      "metadata": {
        "id": "OcjC_Bc7aRyK",
        "outputId": "a3a52b4a-32c8-404e-dc99-1143c488ee85",
        "colab": {
          "base_uri": "https://localhost:8080/"
        }
      },
      "execution_count": 6,
      "outputs": [
        {
          "output_type": "execute_result",
          "data": {
            "text/plain": [
              "3"
            ]
          },
          "metadata": {},
          "execution_count": 6
        }
      ]
    },
    {
      "cell_type": "code",
      "source": [
        "arr_of_3 = [1, 2, 3]\n",
        "print(max(arr_of_3))\n",
        "#rearrange array of 3 in descending order\n",
        "temp_arr = arr_of_3.copy()\n",
        "print(temp_arr)\n",
        "for i in range(len(temp_arr)):\n",
        "    for j in range(i + 1, len(temp_arr)):\n",
        "        if temp_arr[i] < temp_arr[j]:\n",
        "            temp_arr[i], temp_arr[j] = temp_arr[j], temp_arr[i]\n",
        "print(temp_arr)"
      ],
      "metadata": {
        "id": "5T94PZfgaGlZ",
        "outputId": "de9c778e-0a7b-40c7-86d8-ec5c03fb2693",
        "colab": {
          "base_uri": "https://localhost:8080/"
        }
      },
      "execution_count": 11,
      "outputs": [
        {
          "output_type": "stream",
          "name": "stdout",
          "text": [
            "3\n",
            "[1, 2, 3]\n",
            "[3, 2, 1]\n"
          ]
        }
      ]
    },
    {
      "cell_type": "code",
      "source": [
        "#sum of first 10 even numbers\n",
        "arr_10 = []\n",
        "for i in range(10):\n",
        "    arr_10.append(i)\n",
        "print(arr_10)\n",
        "sum = 0\n",
        "for i in arr_10:\n",
        "    if i % 2 == 0:\n",
        "        sum += i\n",
        "print(sum)"
      ],
      "metadata": {
        "id": "PDRUcmcLiyK6",
        "outputId": "f09a3cf2-73e5-4dba-f155-8fa7c2661fbd",
        "colab": {
          "base_uri": "https://localhost:8080/"
        }
      },
      "execution_count": 17,
      "outputs": [
        {
          "output_type": "stream",
          "name": "stdout",
          "text": [
            "[0, 1, 2, 3, 4, 5, 6, 7, 8, 9]\n",
            "20\n"
          ]
        }
      ]
    },
    {
      "cell_type": "code",
      "source": [],
      "metadata": {
        "id": "1Xy6UJEenM9o"
      },
      "execution_count": null,
      "outputs": []
    }
  ]
}
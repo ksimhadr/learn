{
  "nbformat": 4,
  "nbformat_minor": 0,
  "metadata": {
    "colab": {
      "provenance": [],
      "include_colab_link": true
    },
    "kernelspec": {
      "name": "python3",
      "display_name": "Python 3"
    }
  },
  "cells": [
    {
      "cell_type": "markdown",
      "metadata": {
        "id": "view-in-github",
        "colab_type": "text"
      },
      "source": [
        "<a href=\"https://colab.research.google.com/github/ksimhadr/learn/blob/master/PY4AIML_Assignment_00_02.ipynb\" target=\"_parent\"><img src=\"https://colab.research.google.com/assets/colab-badge.svg\" alt=\"Open In Colab\"/></a>"
      ]
    },
    {
      "cell_type": "markdown",
      "metadata": {
        "id": "Na0j6cv7D83_"
      },
      "source": [
        "# Assignment 00-02 workbook"
      ]
    },
    {
      "cell_type": "markdown",
      "source": [
        "## Assignment 00-02\n",
        "\n",
        "Write a function that takes three boolean arguments and returns True if an two but only two of hem are True."
      ],
      "metadata": {
        "id": "FNXqUzMOhVSL"
      }
    },
    {
      "cell_type": "code",
      "source": [
        "def two_out_of3(a: bool, b: bool, c: bool) -> bool:\n",
        "    # Write code here\n",
        "    count = 0\n",
        "    if a:\n",
        "        count += 1\n",
        "    if b:\n",
        "        count += 1\n",
        "    if c:\n",
        "        count += 1\n",
        "    if count == 2:\n",
        "        return True\n",
        "    else:\n",
        "        return False\n",
        "    return\n",
        "two_out_of3(True, True, False)"
      ],
      "metadata": {
        "id": "sODtvRhvhngx",
        "outputId": "2974456b-1a16-494d-9422-d507b896f282",
        "colab": {
          "base_uri": "https://localhost:8080/"
        }
      },
      "execution_count": 1,
      "outputs": [
        {
          "output_type": "execute_result",
          "data": {
            "text/plain": [
              "True"
            ]
          },
          "metadata": {},
          "execution_count": 1
        }
      ]
    },
    {
      "cell_type": "code",
      "source": [],
      "metadata": {
        "id": "584oZU8Ys3GO"
      },
      "execution_count": null,
      "outputs": []
    }
  ]
}
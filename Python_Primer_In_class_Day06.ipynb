{
  "nbformat": 4,
  "nbformat_minor": 0,
  "metadata": {
    "colab": {
      "private_outputs": true,
      "provenance": [],
      "include_colab_link": true
    },
    "kernelspec": {
      "name": "python3",
      "display_name": "Python 3"
    },
    "language_info": {
      "name": "python"
    }
  },
  "cells": [
    {
      "cell_type": "markdown",
      "metadata": {
        "id": "view-in-github",
        "colab_type": "text"
      },
      "source": [
        "<a href=\"https://colab.research.google.com/github/ksimhadr/learn/blob/master/Python_Primer_In_class_Day06.ipynb\" target=\"_parent\"><img src=\"https://colab.research.google.com/assets/colab-badge.svg\" alt=\"Open In Colab\"/></a>"
      ]
    },
    {
      "cell_type": "markdown",
      "source": [
        "# Probability Distributions\n"
      ],
      "metadata": {
        "id": "E3ktZzHCCabI"
      }
    },
    {
      "cell_type": "markdown",
      "source": [
        "# Bernoulli Distribution\n",
        "A Bernoulli distribution has only two bernoulli trials or possible outcomes, namely 1 (success) and 0 (failure), and a single trial. So the random variable X with a Bernoulli distribution can take the value 1 with the probability of success, say p, and the value 0 with the probability of failure, say q or 1-p.\n",
        "\n",
        "Here, the occurrence of a head denotes success, and the occurrence of a tail denotes failure.\n",
        "Probability of getting a head = 0.5 = Probability of getting a tail since there are only two possible outcomes.\n",
        "\n",
        "The probability mass function is given by: px(1-p)1-x  where x € (0, 1)\n",
        "\n",
        "It can also be written as:\n",
        "![image.png](data:image/png;base64,iVBORw0KGgoAAAANSUhEUgAAAJ8AAAAoCAIAAABvtr96AAAEuUlEQVR4Ae1abbXrKhDFAhqwgAckoAELcYADHKAgCjCAgTjAA2/du8+asoDSpDc5L0nbH10DhAkzm/mADMvf3301wO4r2ley/EX3zpvgi+4X3dNoIKVkjFFKnWZFp17IlWw3pSSlNMaklEqleu+FENbasvOW9DzPQgjGmBDCe/9Sxiuh21ptCEFKyf7+bo9uCIExBlCttYyxEMIY4Mugm1Ii2SBSjFFrDYNmjN0eXWOMlJLg5JwbY6jZJS6DLnbusiytGEqpvdBFXIfrSyk55zjnm5inlLCeeZ5zzt57znnXi8LldP+7O1UIMU0Tia/+/qjZJS6DLnxRV4Yd0Z2mKcYIhsaYEAJ8BmNrFeWcizEiiHjvX5pXV6JuZ7XJsMjuk9S5dtE04f8i3kYXRt81kWehC5kLGRzmbhJ8nmfOeWlqm6Z3H27R5Zx3n6TOi6FbZcsQY0fbzTkvy8IYI8XN81w2SXFjAhY/znqebbgKRXpRtV1u5Zlhgl197Yuu954xRkdqYwxjbKuDNcYIIZxzhM2/E1rrMquqwnCX/2bbDSForWOMXXbotNYaY7oZ0GDWeCjGyBhr9bUsCxIfpVTXssds21HACT0652C4xPmZYZV8jDHe+2mapJQppb38M7wI4gXSvZca3oau9x4rLoXp0iEEIcR4E3QnDjoZY5WmWudGNjfgMx6i6wLgWl2edHcYMSwz5BAC53yluojDmLDWYitLKbturJr+QBf+rdRXZaNYLu3iilHbBMDrn285VD1rIk01ZWsTQfdZhpxS4py/tJitLz3u+Qe6cH2URmqtceyjdyulWsdIo11CStk9unUfftnZ3lW9nLL1gSroVtNxXqo6z9x8oEsnByy3amJTb922zjkhxF7yW2v/3fGOF4Ogyzlf4/fGrM4w+kB3mqYyV0STsMGmrlaMMEMXhJhS2je2SNc5lyGgop+Zu1Jqa+5aLfjTmg90cR0PzRJsuE7LObd2g0s74CeEwK4nxw49YnQXO1iZJX4afmN5f9Cl+zaYEedca12i0qJLfAdZ3F7orvwkQkv6EtDAD7o4SzHGul4UtlsepUv1wejLrUCjA3Qrb1w2u54Z7mTfIxat867ED7rlEb4rajfuLstC56guJED32Y7pvmjQqbX+xt2BftqhP+jiGNfeFZRPtzkzrE1KCeCllDHGCmNrLeVlJbf36EF0eI/h7Wf9QZfsr8qJKuGVUgQeDsd0+QfnTE2auO95V2t99ImIVn5aIqWktaZsd7zOH888fgijW++qUAS0l1vOOUspPxxdfFgcG2EJ5QZ0UWmw8uI0xnjEPTM5j1KGD6G99xD/KHRzzmu+ETnndv9GhARtpUd6G+8zV96QUAeiS+/4ZQK529EnojNX3pDCb4juoPKGxN6LOGflDUn3RZdUsZk4beUNSXJDdHGbtmMGTsqqCIQASs5xz7P1FuWIyhta5w3RhUkdnVXlnMtru1NV3gDdtmqfUG+JbSeidv5v9vxCbUbO+bSVNyi0xjcbfKulmtxnKFwJXRTIVYVOzwR7rx8e4oaVN++p45dnLctyaP1NFXQr6S5ceVNJ8plNBN0bVt58Jpz3lvpKcffeSBwh3RfdI7R6Fp7/AZlcSllwwAvRAAAAAElFTkSuQmCC)\n"
      ],
      "metadata": {
        "id": "IxpDzb3rClzI"
      }
    },
    {
      "cell_type": "code",
      "source": [
        "import numpy as np\n",
        "import matplotlib.pyplot as plt\n",
        "from scipy.stats import bernoulli\n",
        "\n",
        "# Parameters\n",
        "p = 0.5  # Probability of success\n",
        "\n",
        "# Generate Bernoulli random variables\n",
        "data_bernoulli = bernoulli.rvs(p, size=1000)\n",
        "\n",
        "# Plot\n",
        "plt.hist(data_bernoulli, bins=2, edgecolor='black', density=True)\n",
        "plt.title('Bernoulli Distribution (p=0.5)')\n",
        "plt.xlabel('Outcome')\n",
        "plt.ylabel('Frequency')\n",
        "plt.xticks([0, 1])\n",
        "plt.show()\n"
      ],
      "metadata": {
        "id": "WPGA_DDoCn4o"
      },
      "execution_count": null,
      "outputs": []
    },
    {
      "cell_type": "markdown",
      "source": [
        "# Binomial Distribution\n",
        "A distribution where only two outcomes are possible, such as success or failure, gain or loss, win or lose and where the probability of success and failure is the same for all the trials is called a Binomial Distribution.\n",
        "Each trial is independent since the outcome of the previous toss doesn’t determine or affect the outcome of the current toss. An experiment with only two possible outcomes repeated n number of times is called binomial. The parameters of a binomial distribution are n and p, where n is the total number of trials and p is the probability of success in each trial.\n",
        "\n",
        "Based on the above explanation, the properties of a Binomial Distribution are:\n",
        "\n",
        "Each trial is independent.\n",
        "There are only two possible outcomes in a trial – success or failure.\n",
        "A total number of n identical trials are conducted.\n",
        "The probability of success and failure is the same for all trials. (Trials are identical.)\n",
        "The mathematical representation of binomial distribution is given by:\n",
        "![image.png](data:image/png;base64,iVBORw0KGgoAAAANSUhEUgAAALMAAAAfCAIAAAAjqGsxAAADxElEQVR4Ae1a65msIAy1LguyHquxGYvxfnlBAgFl1bmjw/5ZgSQmJ4cEHYet/3UEPAQGb7LPdQS2zoxOAh+Bzgwflz7bmeFyYJ3HaXFXfmayM8NNdWdGP2dsyzQMw7Rs6zwOdLVt2zpP8+py5mcmf7xmQG2YgRLjOM0rkGQkRixzZ8bPbIJSoMiHaVmxejAxSrI/NH9RzcBSXD+zqQ35VfgGvyCGEQrHtABJ6tFcEAK1r3FeD4BHtwNXs8ZX9KTdvjG1wwyyDv1X/SWYgczBrdYgary8cYARYkQcK15/gBnQrzDVB8ErND72WqWH7bXaTzHeYQacxfBgJu0XWBuaMRiD9YQq6T3MGMBokTfKbxsguA1oYH1raHyt9jW+u8wgWksymScyRF4crBdyVzDRqCKqL/sfwcQOth8dEgNOxozhjlqzfePBHjMsMegRL9YMP8viEfGHR3Fn+EroVdDUxTEpUsb97x4weISDDGhXSJJpNoKTwTAty8Q7CdFB0QzTDIeq/Uzam9hhBrtQ6iVw/ySqbZlAWiKm/1bK0/J8e/QcIEdHWei+I7VcQaUWGSNGsJpBTev6tTozmBh6B2siwHKhMQRNZ72idi5A7ed/vFZBMAwCAiVaRkouXCZUoKHGPEjefVFnRuJn6kwtxYSJCwIuudEykHlWXTupO9835ngk1h04t41LbYiWFMLwowFWmbEXCQTuus2K4WWzDamoZsVeMCIcjhPDZZKL8P3g1JjB+a14BhISN/rKocFsjJJOHjGWTCsuveuKASSEzKAQZ8QsvC5IAC4o3jBdZEbIsX19YV0AIUMcCp/JwlhY7oRHLmvp0lE4zZ+yetqKhhAbpNlEvm+CGTz/zfjy6ICSb+rkbJEZx+xm1NhX+4PKvlElceXrS/D1z5lhYvxZn0hiNp4K8/bLk8ygM1NL8BBvi3wjApd/WKFaYd12tnoysyfVG3HLxU8zo6k73F0v4OXgxbRb51G2bd14ukqZrfXiPBtqhitO4RCvBO+6vIAZ4BrGUc8JICUY3xVN+hspZif9Kqd4c0pG+uNn7E7mc55M2KwW7/GchYuY8S0BxzQiW72vcuJmDK9NiLCFHyeVSfU5jyOsVr8FjjN+vIwZXkkfT/04qbpJivOBQpmqPGj8MmYkB43QwSCJ8lVOOTtSTuBXLGmN6gSqqoc0UDwGkLBdLd/kKStvYwY8LIXTTNzUnHNJt5MdIREeTcLTk6lBMfeecFx1rD9w6n3MaHpYqmVM0l+TefHaG5nx4nR9MLTOjA+C/ahb/QOA1RqgybgOXwAAAABJRU5ErkJggg==)\n",
        "The mean and variance of a binomial distribution are given by:\n",
        "\n",
        "Mean -> µ = n*p\n",
        "Variance -> Var(X) = n*p*q"
      ],
      "metadata": {
        "id": "kGffS-4sCvLw"
      }
    },
    {
      "cell_type": "code",
      "source": [
        "import numpy as np\n",
        "import matplotlib.pyplot as plt\n",
        "from scipy.stats import binom\n",
        "\n",
        "# Parameters\n",
        "n = 10  # Number of trials\n",
        "p = 0.5  # Probability of success\n",
        "\n",
        "# Generate Binomial random variables\n",
        "data_binomial = binom.rvs(n, p, size=1000)\n",
        "\n",
        "# Plot\n",
        "plt.hist(data_binomial, bins=n+1, edgecolor='black', density=True)\n",
        "plt.title('Binomial Distribution (n=10, p=0.5)')\n",
        "plt.xlabel('Number of Successes')\n",
        "plt.ylabel('Frequency')\n",
        "plt.show()\n"
      ],
      "metadata": {
        "id": "K_vCHJ5UC2NV"
      },
      "execution_count": null,
      "outputs": []
    },
    {
      "cell_type": "markdown",
      "source": [
        "# Poisson Distribution\n",
        "Poisson Distribution is applicable in situations where events occur at random points of time and space wherein our interest lies only in the number of occurrences of the event.\n",
        "A distribution is called a Poisson distribution when the following assumptions are valid:\n",
        "\n",
        "Any successful event should not influence the outcome of another successful event.\n",
        "The probability of success over a short interval must equal its probability over a longer interval.\n",
        "The probability of success in an interval approaches zero as the interval becomes smaller.\n",
        "Now, if any distribution validates the above assumptions, then it is a Poisson distribution. Some notations used in Poisson distribution are:\n",
        "\n",
        "λ is the rate at which an event occurs,\n",
        "t is the length of a time interval,\n",
        "And X is the number of events in that time interval.\n",
        "Here, X is called a Poisson Random Variable, and the probability distribution of X is called Poisson distribution.\n",
        "Let µ denote the mean number of events in an interval of length t. Then, µ = λ*t.\n",
        "\n",
        "The PMF of X following a Poisson distribution is given by:\n",
        "![image.png](data:image/png;base64,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)\n",
        "The mean and variance of X following a Poisson distribution:\n",
        "\n",
        "Mean -> E(X) = µ\n",
        "Variance -> Var(X) = µ"
      ],
      "metadata": {
        "id": "kCyLNO53C6p1"
      }
    },
    {
      "cell_type": "code",
      "source": [
        "import numpy as np\n",
        "import matplotlib.pyplot as plt\n",
        "from scipy.stats import poisson\n",
        "\n",
        "# Parameters\n",
        "mu = 3  # Average number of events (rate parameter)\n",
        "\n",
        "# Generate Poisson random variables\n",
        "data_poisson = poisson.rvs(mu, size=1000)\n",
        "\n",
        "# Plot\n",
        "plt.hist(data_poisson, bins=30, edgecolor='black', density=True)\n",
        "plt.title('Poisson Distribution (mu=3)')\n",
        "plt.xlabel('Number of Events')\n",
        "plt.ylabel('Frequency')\n",
        "plt.show()\n"
      ],
      "metadata": {
        "id": "V5Df0HuoC-ad"
      },
      "execution_count": null,
      "outputs": []
    },
    {
      "cell_type": "markdown",
      "source": [
        "# Measure of Central Tendency"
      ],
      "metadata": {
        "id": "BEYUVd1yEjO5"
      }
    },
    {
      "cell_type": "markdown",
      "source": [
        " **Mean , Mode, Median, Standard Deviation, Variance**"
      ],
      "metadata": {
        "id": "JTn-AT7VEYRg"
      }
    },
    {
      "cell_type": "code",
      "source": [
        "import numpy as np\n",
        "import scipy.stats as stats\n",
        "\n",
        "# Sample data\n",
        "data = [1, 2, 2, 3, 4, 5, 5, 5, 6, 7, 8, 9]\n",
        "\n",
        "# Calculate mean\n",
        "mean = np.mean(data)\n",
        "print(f\"Mean: {mean}\")\n",
        "\n",
        "# Calculate median\n",
        "median = np.median(data)\n",
        "print(f\"Median: {median}\")\n",
        "\n",
        "# Calculate mode\n",
        "mode = stats.mode(data)\n",
        "print(f\"Mode: {mode.mode[0]} with frequency {mode.count[0]}\")\n",
        "\n",
        "# Calculate standard deviation\n",
        "std_dev = np.std(data, ddof=1)  # ddof=1 for sample standard deviation\n",
        "print(f\"Standard Deviation: {std_dev}\")\n",
        "\n",
        "# Calculate variance\n",
        "variance = np.var(data, ddof=1)  # ddof=1 for sample variance\n",
        "print(f\"Variance: {variance}\")\n"
      ],
      "metadata": {
        "id": "c7x4c2YuE2r3"
      },
      "execution_count": null,
      "outputs": []
    },
    {
      "cell_type": "markdown",
      "source": [
        "### **Confidence intervals**\n",
        "\n",
        "- a way to estimate the range within which a population parameter, like a mean or proprtion is likely to fall.\n",
        "- associated with a level of confidence (95%, 99%, 92% ....)"
      ],
      "metadata": {
        "id": "zLw-FOQRXy4t"
      }
    },
    {
      "cell_type": "code",
      "source": [
        "import scipy.stats as stats\n",
        "import math\n",
        "\n",
        "# Given values\n",
        "sample_mean = 240\n",
        "sample_std_dev = 25\n",
        "sample_size = 10\n",
        "confidence_level = 0.95\n",
        "\n",
        "# DF\n",
        "df = sample_size - 1\n",
        "\n",
        "# Significance level (α)\n",
        "alpha = (1 - confidence_level) / 2\n",
        "\n",
        "# t-value from the t-distribution table\n",
        "t_value = stats.t.ppf(1 - alpha, df)\n",
        "\n",
        "margin_of_error = t_value * (sample_std_dev / math.sqrt(sample_size))\n",
        "\n",
        "lower_limit = sample_mean - margin_of_error\n",
        "upper_limit = sample_mean + margin_of_error\n",
        "\n",
        "print(f\"Confidence Interval: ({lower_limit}, {upper_limit})\")\n"
      ],
      "metadata": {
        "id": "VFqr1hQsp5TY"
      },
      "execution_count": null,
      "outputs": []
    }
  ]
}
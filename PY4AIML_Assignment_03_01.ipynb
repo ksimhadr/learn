{
  "nbformat": 4,
  "nbformat_minor": 0,
  "metadata": {
    "colab": {
      "provenance": [],
      "include_colab_link": true
    },
    "kernelspec": {
      "name": "python3",
      "display_name": "Python 3"
    }
  },
  "cells": [
    {
      "cell_type": "markdown",
      "metadata": {
        "id": "view-in-github",
        "colab_type": "text"
      },
      "source": [
        "<a href=\"https://colab.research.google.com/github/ksimhadr/learn/blob/master/PY4AIML_Assignment_03_01.ipynb\" target=\"_parent\"><img src=\"https://colab.research.google.com/assets/colab-badge.svg\" alt=\"Open In Colab\"/></a>"
      ]
    },
    {
      "cell_type": "markdown",
      "metadata": {
        "id": "Na0j6cv7D83_"
      },
      "source": [
        "# This is Assignment_03-01 workbook"
      ]
    },
    {
      "cell_type": "markdown",
      "source": [
        "# Assignment-03-01\n",
        "## Curzon Numbers\n",
        "\n",
        "J.J.Tattersall defined the [Curzon numbers](https://www.numbersaplenty.com/set/Curzon_number/more.php) to be those  $n$  for which  $2n+1$  divides  $2^n+1$.\n",
        "The definition can be generalized, with respect to an arbitrary base  $k$, as those numbers for which  $k\\cdot n+1$  divides  $k^n+1$.\n",
        "\n",
        "* Example 01:\n",
        "\n",
        "5 is a Curzon number\n",
        "\n",
        "* Explanation:\n",
        "\n",
        "2 ^ 5 + 1 = 33 and 2 * 5 + 1 = 11\n",
        "\n",
        "Since 11 divides 33,  so 5 is a curzon number.\n",
        "\n",
        "* Example 02:\n",
        "\n",
        "10 is not a Curzon number\n",
        "\n",
        "* Explanation:\n",
        "\n",
        "2 ^ 10 + 1 = 1025 and 2 * 10 + 1 = 21\n",
        "\n",
        "1025 is not divisible by 21, so 10 is not a curzon number.\n",
        "\n",
        "#Problem Statement\n",
        "Given a non-negative integer *num*, implement a function that returns True if *num* is a Curzon number, or False otherwise\n",
        "\n",
        "\n",
        "* Example:\n",
        "\n",
        "is_curzon(5) ➞ True\n",
        "\n",
        "> 2 ** 5 + 1 = 33\n",
        "\n",
        "> 2 * 5 + 1 = 11\n",
        "\n",
        "> 33 is a multiple of 11\n",
        "\n",
        "\n",
        "is_curzon(10) ➞ False\n",
        "\n",
        "> 2 ** 10 + 1 = 1025\n",
        "\n",
        "> 2 * 10 + 1 = 21\n",
        "\n",
        "> 1025 is not a multiple of 21\n",
        "\n",
        "is_curzon(14) ➞ True\n",
        "\n",
        "> 2 ** 14 + 1 = 16385\n",
        "\n",
        "> 2 * 14 + 1 = 29\n",
        "\n",
        "> 16385 is a multiple of 29"
      ],
      "metadata": {
        "id": "8kU1SMdbaGPP"
      }
    },
    {
      "cell_type": "code",
      "source": [
        "def is_curzon(num: int) -> bool:\n",
        "  #Write your code Here\n",
        "  if (2**num+1) % (2*num+1) == 0:\n",
        "    return True\n",
        "  else:\n",
        "    return False\n",
        "  return num\n",
        "print(is_curzon(14))"
      ],
      "metadata": {
        "id": "-kgm-uzFaF01",
        "outputId": "e6a33f39-4e4c-47c5-da34-99358f4254a6",
        "colab": {
          "base_uri": "https://localhost:8080/"
        }
      },
      "execution_count": 4,
      "outputs": [
        {
          "output_type": "stream",
          "name": "stdout",
          "text": [
            "True\n"
          ]
        }
      ]
    },
    {
      "cell_type": "code",
      "source": [],
      "metadata": {
        "id": "28x0GVW8mkmw"
      },
      "execution_count": null,
      "outputs": []
    }
  ]
}
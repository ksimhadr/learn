{
  "nbformat": 4,
  "nbformat_minor": 0,
  "metadata": {
    "colab": {
      "provenance": [],
      "authorship_tag": "ABX9TyNyu+CtY8N00cRx3oVzFP4w",
      "include_colab_link": true
    },
    "kernelspec": {
      "name": "python3",
      "display_name": "Python 3"
    },
    "language_info": {
      "name": "python"
    }
  },
  "cells": [
    {
      "cell_type": "markdown",
      "metadata": {
        "id": "view-in-github",
        "colab_type": "text"
      },
      "source": [
        "<a href=\"https://colab.research.google.com/github/ksimhadr/learn/blob/master/_Practice_.ipynb\" target=\"_parent\"><img src=\"https://colab.research.google.com/assets/colab-badge.svg\" alt=\"Open In Colab\"/></a>"
      ]
    },
    {
      "cell_type": "code",
      "execution_count": null,
      "metadata": {
        "id": "91NLX0YBULYy",
        "colab": {
          "base_uri": "https://localhost:8080/"
        },
        "outputId": "04734ed5-a379-4cf4-ede8-e690c8e787ed"
      },
      "outputs": [
        {
          "output_type": "execute_result",
          "data": {
            "text/plain": [
              "array([-2.84217094e-14,  2.00000000e+00,  1.44328993e-14])"
            ]
          },
          "metadata": {},
          "execution_count": 3
        }
      ],
      "source": [
        "import numpy as np\n",
        "\n",
        "# Linear regression\n",
        "X = np.array([[1, 1], [1, 2], [1, 3], [1, 4]])\n",
        "y = np.array([2,4,6,8])\n",
        "\n",
        "# Quadratic regression\n",
        "X_quad = np.array([[1, 1, 1**2], [1, 2, 2**2], [1, 3, 3**2], [1, 4, 4**2]])\n",
        "w_quad = np.linalg.inv(X_quad.T @ X_quad) @ (X_quad.T @ y)\n",
        "\n",
        "w_quad\n"
      ]
    },
    {
      "cell_type": "code",
      "source": [
        "# prompt: understanding python keywords - assert break continue except false finally global lambda none nonlocal raise pass try yield\n",
        "\n",
        "# assert: Used for debugging, raises an AssertionError if the condition is false.\n",
        "def divide(x, y):\n",
        "  assert y != 0, \"Division by zero not allowed!\"\n",
        "  return x / y\n",
        "\n",
        "divide(10, 1)\n",
        "\n",
        "# break: Exits the current loop.\n",
        "for i in range(10):\n",
        "  if i == 2:\n",
        "    break\n",
        "  print(i)\n",
        "\n",
        "# continue: Skips the rest of the current iteration and goes to the next.\n",
        "for i in range(10):\n",
        "  if i % 2 == 0:\n",
        "    continue\n",
        "  print(i)\n",
        "\n",
        "# except: Handles exceptions that occur within a try block.\n",
        "try:\n",
        "  result = 10 / 0\n",
        "except ZeroDivisionError:\n",
        "  print(\"Division by zero using try and except!\")\n",
        "\n",
        "# false: Boolean value representing the absence of truth.\n",
        "if False:\n",
        "  print(\"This won't print.\")\n",
        "\n",
        "# finally: Executes code regardless of whether an exception occurs.\n",
        "try:\n",
        "  result = 10 / 0\n",
        "except ZeroDivisionError:\n",
        "  print(\"Division by zero in exception!\")\n",
        "finally:\n",
        "  print(\"This will always print using finally.\")\n",
        "\n",
        "# global: Used to access and modify global variables within a function.\n",
        "global_var = 10\n",
        "def modify_global():\n",
        "  global global_var\n",
        "  global_var = 200\n",
        "\n",
        "modify_global()\n",
        "print(global_var)\n",
        "\n",
        "# lambda: Creates anonymous functions.\n",
        "square = lambda x: x * x\n",
        "square(5)\n",
        "\n",
        "# None: Represents the absence of a value.\n",
        "empty_value = None\n",
        "if empty_value is None:\n",
        "  print(\"This is an empty value.\")\n",
        "\n",
        "\n",
        "# nonlocal: Used to access and modify variables in enclosing scopes.\n",
        "def outer_func():\n",
        "  x = 10\n",
        "  def inner_func():\n",
        "    nonlocal x\n",
        "    x = 20\n",
        "  inner_func()\n",
        "  print(x)\n",
        "\n",
        "outer_func()\n",
        "\n",
        "# raise: Raises an exception.\n",
        "def check_age(age):\n",
        "  if age < 0:\n",
        "    raise ValueError(\"Age cannot be negative!\")\n",
        "\n",
        "# pass: Placeholder statement, does nothing.\n",
        "def empty_function():\n",
        "  pass\n",
        "\n",
        "# try: Used to enclose code that might raise exceptions.\n",
        "try:\n",
        "  result = 10 / 0\n",
        "except ZeroDivisionError:\n",
        "  print(\"Division by zero!\")\n",
        "\n",
        "# yield: Used in generator functions to produce a sequence of values.\n",
        "def generate_numbers(n):\n",
        "  for i in range(n):\n",
        "    yield i\n",
        "\n",
        "generate_numbers(5)\n"
      ],
      "metadata": {
        "colab": {
          "base_uri": "https://localhost:8080/"
        },
        "id": "HEDyqw_NOgJb",
        "outputId": "19e79a83-b771-44c5-b2f6-f5583f54c454"
      },
      "execution_count": 6,
      "outputs": [
        {
          "output_type": "stream",
          "name": "stdout",
          "text": [
            "0\n",
            "1\n",
            "1\n",
            "3\n",
            "5\n",
            "7\n",
            "9\n",
            "Division by zero using try and except!\n",
            "Division by zero in exception!\n",
            "This will always print using finally.\n",
            "200\n",
            "This is an empty value.\n",
            "20\n",
            "Division by zero!\n"
          ]
        },
        {
          "output_type": "execute_result",
          "data": {
            "text/plain": [
              "<generator object generate_numbers at 0x7d109092d070>"
            ]
          },
          "metadata": {},
          "execution_count": 6
        }
      ]
    },
    {
      "cell_type": "code",
      "source": [
        "# prompt: how to use yield\n",
        "\n",
        "def generate_even_numbers(n):\n",
        "  \"\"\"Generates even numbers up to n.\"\"\"\n",
        "  for i in range(2, n + 1, 2):\n",
        "    yield i\n",
        "\n",
        "# Create a generator object\n",
        "even_nums = generate_even_numbers(10)\n",
        "\n",
        "# Iterate over the generator to get values\n",
        "for num in even_nums:\n",
        "  print(num)\n"
      ],
      "metadata": {
        "colab": {
          "base_uri": "https://localhost:8080/"
        },
        "id": "aIuCZuo5aED8",
        "outputId": "8bf6d6dd-fce8-4d7d-f739-5b96b6c2fea9"
      },
      "execution_count": 7,
      "outputs": [
        {
          "output_type": "stream",
          "name": "stdout",
          "text": [
            "2\n",
            "4\n",
            "6\n",
            "8\n",
            "10\n"
          ]
        }
      ]
    },
    {
      "cell_type": "code",
      "source": [
        "# prompt: slicing\n",
        "\n",
        "my_list = [1, 2, 3, 4, 5, 6, 7, 8, 9, 10]\n",
        "\n",
        "# Get the first 3 elements\n",
        "first_three = my_list[:3]\n",
        "print(first_three)  # Output: [1, 2, 3]\n",
        "\n",
        "# Get elements from index 2 to the end\n",
        "from_index_2 = my_list[2:]\n",
        "print(from_index_2)  # Output: [3, 4, 5, 6, 7, 8, 9, 10]\n",
        "\n",
        "# Get elements from index 3 to 7 (exclusive)\n",
        "slice_3_to_7 = my_list[3:7]\n",
        "print(slice_3_to_7)  # Output: [4, 5, 6, 7]\n",
        "\n",
        "# Get every other element\n",
        "every_other = my_list[::2]\n",
        "print(every_other)  # Output: [1, 3, 5, 7, 9]\n",
        "\n",
        "# Reverse the list\n",
        "reversed_list = my_list[::-1]\n",
        "print(reversed_list)  # Output: [10, 9, 8, 7, 6, 5, 4, 3, 2, 1]\n"
      ],
      "metadata": {
        "colab": {
          "base_uri": "https://localhost:8080/"
        },
        "id": "ioTyd0rF00nT",
        "outputId": "bf980cf5-7e44-46da-a8a5-7200ee17de0b"
      },
      "execution_count": 8,
      "outputs": [
        {
          "output_type": "stream",
          "name": "stdout",
          "text": [
            "[1, 2, 3]\n",
            "[3, 4, 5, 6, 7, 8, 9, 10]\n",
            "[4, 5, 6, 7]\n",
            "[1, 3, 5, 7, 9]\n",
            "[10, 9, 8, 7, 6, 5, 4, 3, 2, 1]\n"
          ]
        }
      ]
    },
    {
      "cell_type": "code",
      "source": [
        "# prompt: difference between set tuple list dictionaries\n",
        "\n",
        "# Lists\n",
        "# - Ordered collections of items.\n",
        "# - Mutable (can be changed after creation).\n",
        "# - Allows duplicate elements.\n",
        "my_list = [1, 2, 3, 2, 4]\n",
        "print(my_list)  # Output: [1, 2, 3, 2, 4]\n",
        "\n",
        "# Tuples\n",
        "# - Ordered collections of items.\n",
        "# - Immutable (cannot be changed after creation).\n",
        "# - Allows duplicate elements.\n",
        "my_tuple = (1, 2, 3, 2, 4)\n",
        "print(my_tuple)  # Output: (1, 2, 3, 2, 4)\n",
        "\n",
        "# Sets\n",
        "# - Unordered collections of unique items.\n",
        "# - Mutable (can be changed after creation).\n",
        "# - Does not allow duplicate elements.\n",
        "my_set = {1, 2, 3, 2, 4}\n",
        "print(my_set)  # Output: {1, 2, 3, 4}\n",
        "\n",
        "# Dictionaries\n",
        "# - Store data in key-value pairs.\n",
        "# - Keys must be unique.\n",
        "# - Mutable (can be changed after creation).\n",
        "my_dict = {\"name\": \"Alice\", \"age\": 30, \"city\": \"New York\"}\n",
        "print(my_dict)  # Output: {'name': 'Alice', 'age': 30, 'city': 'New York'}\n"
      ],
      "metadata": {
        "colab": {
          "base_uri": "https://localhost:8080/"
        },
        "id": "e89BDPdz2tml",
        "outputId": "d074f06a-d26e-46f9-d0dd-7c2ae3dcf430"
      },
      "execution_count": 12,
      "outputs": [
        {
          "output_type": "stream",
          "name": "stdout",
          "text": [
            "[1, 2, 3, 2, 4]\n",
            "(1, 2, 3, 2, 4)\n",
            "{1, 2, 3, 4}\n",
            "{'name': 'Alice', 'age': 30, 'city': 'New York'}\n"
          ]
        }
      ]
    },
    {
      "cell_type": "code",
      "source": [
        "# prompt: numpy arange mean median\n",
        "\n",
        "import numpy as np\n",
        "\n",
        "# Create an array using arange\n",
        "arr = np.arange(0, 5)  # Creates an array from 1 to 10\n",
        "\n",
        "# Calculate the mean\n",
        "#mean = np.mean(arr)\n",
        "#print(\"Mean:\", mean)\n",
        "\n",
        "# Calculate the median\n",
        "median = np.median(arr)\n",
        "print(\"Median:\", median)\n"
      ],
      "metadata": {
        "colab": {
          "base_uri": "https://localhost:8080/"
        },
        "id": "VDd4RRMa2Efh",
        "outputId": "4f1263c0-3d6b-4e20-b085-80d953737054"
      },
      "execution_count": 19,
      "outputs": [
        {
          "output_type": "stream",
          "name": "stdout",
          "text": [
            "Median: 2.0\n"
          ]
        }
      ]
    },
    {
      "cell_type": "code",
      "source": [
        "# prompt: arange and reshape\n",
        "\n",
        "import numpy as np\n",
        "\n",
        "# Create an array using arange and reshape\n",
        "arr = np.array([np.arange(50).reshape(1, 50),np.arange(50).reshape(1, 50)])\n",
        "arr.shape\n",
        "#arr.reshape(2,50)\n",
        "#print(arr)\n"
      ],
      "metadata": {
        "colab": {
          "base_uri": "https://localhost:8080/"
        },
        "id": "VOq0nTyM93kG",
        "outputId": "221a55a1-c9a0-4c5c-81fc-62c75dc7a79b"
      },
      "execution_count": 27,
      "outputs": [
        {
          "output_type": "execute_result",
          "data": {
            "text/plain": [
              "(2, 1, 50)"
            ]
          },
          "metadata": {},
          "execution_count": 27
        }
      ]
    },
    {
      "cell_type": "code",
      "source": [
        "# prompt: using numpy methods with different examples\n",
        "\n",
        "import numpy as np\n",
        "\n",
        "# Create a NumPy array\n",
        "arr = np.array([1, 2, 3, 4, 5])\n",
        "\n",
        "# Basic operations\n",
        "print(\"Array:\", arr)\n",
        "print(\"Sum:\", np.sum(arr))\n",
        "print(\"Mean:\", np.mean(arr))\n",
        "print(\"Median:\", np.median(arr))\n",
        "print(\"Standard Deviation:\", np.std(arr))\n",
        "print(\"Variance:\", np.var(arr))\n",
        "\n",
        "# Reshaping\n",
        "arr_2d = np.array([1, 2, 3, 4, 5, 6]).reshape(2, 3)\n",
        "print(\"\\nReshaped Array:\\n\", arr_2d)\n",
        "\n",
        "# Indexing and slicing\n",
        "print(\"\\nFirst element:\", arr_2d[0, 0])\n",
        "print(\"First row:\", arr_2d[0, :])\n",
        "print(\"First column:\", arr_2d[:, 0])\n",
        "\n",
        "# Mathematical functions\n",
        "print(\"\\nSine of array:\", np.sin(arr))\n",
        "print(\"Cosine of array:\", np.cos(arr))\n",
        "print(\"Exponential of array:\", np.exp(arr))\n",
        "print(\"Logarithm of array:\", np.log(arr))\n",
        "\n",
        "# Linear algebra\n",
        "a = np.array([[1, 2], [3, 4]])\n",
        "b = np.array([5, 6])\n",
        "x = np.linalg.solve(a, b)\n",
        "print(\"\\nSolution to linear equations:\", x)\n",
        "\n",
        "# Random number generation\n",
        "random_arr = np.random.rand(5)\n",
        "print(\"\\nRandom array:\", random_arr)\n"
      ],
      "metadata": {
        "colab": {
          "base_uri": "https://localhost:8080/"
        },
        "id": "3FIzf0GqOBkK",
        "outputId": "5e6525b3-0772-4753-f445-6c90176e6bce"
      },
      "execution_count": 28,
      "outputs": [
        {
          "output_type": "stream",
          "name": "stdout",
          "text": [
            "Array: [1 2 3 4 5]\n",
            "Sum: 15\n",
            "Mean: 3.0\n",
            "Median: 3.0\n",
            "Standard Deviation: 1.4142135623730951\n",
            "Variance: 2.0\n",
            "\n",
            "Reshaped Array:\n",
            " [[1 2 3]\n",
            " [4 5 6]]\n",
            "\n",
            "First element: 1\n",
            "First row: [1 2 3]\n",
            "First column: [1 4]\n",
            "\n",
            "Sine of array: [ 0.84147098  0.90929743  0.14112001 -0.7568025  -0.95892427]\n",
            "Cosine of array: [ 0.54030231 -0.41614684 -0.9899925  -0.65364362  0.28366219]\n",
            "Exponential of array: [  2.71828183   7.3890561   20.08553692  54.59815003 148.4131591 ]\n",
            "Logarithm of array: [0.         0.69314718 1.09861229 1.38629436 1.60943791]\n",
            "\n",
            "Solution to linear equations: [-4.   4.5]\n",
            "\n",
            "Random array: [0.3149014  0.44235135 0.10816218 0.87848997 0.80384955]\n"
          ]
        }
      ]
    },
    {
      "cell_type": "code",
      "source": [
        "import numpy as np\n",
        "y = [[\"apple\", \"banana\", \"cherry\"], 0, 12, [\"grapes\", 'citroud']]   #nested list\n",
        "print(y)\n",
        "print(type(y))"
      ],
      "metadata": {
        "colab": {
          "base_uri": "https://localhost:8080/"
        },
        "id": "TpAIgj2dPAS0",
        "outputId": "4421267c-f39a-40c7-ad51-26557c076ea2"
      },
      "execution_count": 31,
      "outputs": [
        {
          "output_type": "stream",
          "name": "stdout",
          "text": [
            "[['apple', 'banana', 'cherry'], 0, 12, ['grapes', 'citroud']]\n",
            "<class 'list'>\n"
          ]
        }
      ]
    },
    {
      "cell_type": "code",
      "source": [
        "# prompt: in is any\n",
        "\n",
        "if any(isinstance(item, list) for item in y):\n",
        "  print(\"List found in y\")\n",
        "else:\n",
        "  print(\"No list found in y\")\n"
      ],
      "metadata": {
        "colab": {
          "base_uri": "https://localhost:8080/"
        },
        "id": "__VeokkYQQuZ",
        "outputId": "64a3c658-0031-44b1-ed87-096080718c5a"
      },
      "execution_count": 32,
      "outputs": [
        {
          "output_type": "stream",
          "name": "stdout",
          "text": [
            "List found in y\n"
          ]
        }
      ]
    },
    {
      "cell_type": "code",
      "source": [
        "#in operator checks the object membership\n",
        "x = [{12},12, 12]\n",
        "y = [1, 12, 13, 0, -12, 9, {12}]\n",
        "print(x in y)\n",
        "\n",
        "#is operator checks for objects identity\n",
        "print(x is y)\n"
      ],
      "metadata": {
        "colab": {
          "base_uri": "https://localhost:8080/"
        },
        "id": "B7ORlIaEPie4",
        "outputId": "9b53fb07-e82a-4b93-ee51-afc99b385fb0"
      },
      "execution_count": 43,
      "outputs": [
        {
          "output_type": "stream",
          "name": "stdout",
          "text": [
            "False\n",
            "False\n"
          ]
        }
      ]
    },
    {
      "cell_type": "code",
      "source": [
        "#  Define a function() that takes two lists\n",
        "def overlapping(list1, list2):\n",
        "\n",
        "    c = 0\n",
        "    d = 0\n",
        "    for i in list1:\n",
        "        c += 1\n",
        "    for i in list2:\n",
        "        d += 1\n",
        "    for i in range(0, c):\n",
        "        for j in range(0, d):\n",
        "            print(list1[i], list2[j])\n",
        "            if(list1[i] == list2[j]):\n",
        "                return 1\n",
        "    return 0\n",
        "\n",
        "\n",
        "list1 = [1, 2, 3, 4, 5]\n",
        "list2 = [6, 1, 8, 9]\n",
        "if(overlapping(list1, list2)):\n",
        "    print(\"overlapping\")\n",
        "else:\n",
        "    print(\"not overlapping\")\n"
      ],
      "metadata": {
        "colab": {
          "base_uri": "https://localhost:8080/"
        },
        "id": "yT6C8fPYStSa",
        "outputId": "7d358e34-1d7d-48a6-d8f2-6a7accad28f9"
      },
      "execution_count": 48,
      "outputs": [
        {
          "output_type": "stream",
          "name": "stdout",
          "text": [
            "1 6\n",
            "1 1\n",
            "overlapping\n"
          ]
        }
      ]
    },
    {
      "cell_type": "code",
      "source": [
        "lst1 = [1, 2, 3]\n",
        "lst2 = [1, 2, 3]\n",
        "\n",
        "if lst1 is lst2: #compares the memory locations of two objects\n",
        "    print(\"lst1 and lst2 are the same object\")\n",
        "elif (lst1 == lst2): #compares two values\n",
        "    #print(\"lst1 and lst2 are same objects\")\n",
        "    print(\"lst1 and lst2 have the same values\")\n",
        "else:\n",
        "    print(\"lst1 and lst2 are different objects\")\n"
      ],
      "metadata": {
        "colab": {
          "base_uri": "https://localhost:8080/"
        },
        "id": "82oZVAO3U_Z7",
        "outputId": "1f22c630-2900-4402-ef10-f43689d3bb9f"
      },
      "execution_count": 51,
      "outputs": [
        {
          "output_type": "stream",
          "name": "stdout",
          "text": [
            "lst1 and lst2 have the same values\n"
          ]
        }
      ]
    },
    {
      "cell_type": "code",
      "source": [
        "#container/data-structure can be list, tuple, set, dict\n",
        "x = 61\n",
        "y = [1, 3, 6, -3, 11]\n",
        "\n",
        "# write expression \"x in y\" using 'is' keyword\n",
        "any( x is ele or x == ele for ele in y )"
      ],
      "metadata": {
        "colab": {
          "base_uri": "https://localhost:8080/"
        },
        "id": "EsXU9rPoWDvi",
        "outputId": "c69fa2df-445c-4eec-d9bf-0e1597bf6e11"
      },
      "execution_count": 52,
      "outputs": [
        {
          "output_type": "execute_result",
          "data": {
            "text/plain": [
              "False"
            ]
          },
          "metadata": {},
          "execution_count": 52
        }
      ]
    },
    {
      "cell_type": "code",
      "source": [
        "# prompt: length of list with different examples nested lists and 2D lists\n",
        "\n",
        "# Simple list\n",
        "my_list = [1, 2, 3, 4, 5]\n",
        "print(len(my_list))  # Output: 5\n",
        "\n",
        "# Nested list\n",
        "nested_list = [[1, 2], [3, 4], [5, 6], {}]\n",
        "print(len(nested_list))  # Output: 3\n",
        "\n",
        "# 2D list\n",
        "two_d_list = [[1, 2, 3], [4, 5, 6], [7, 8, 9]]\n",
        "print(len(two_d_list))  # Output: 3\n"
      ],
      "metadata": {
        "colab": {
          "base_uri": "https://localhost:8080/"
        },
        "id": "jtxKa2aIWPW3",
        "outputId": "cd8d7a0d-b382-4578-ac87-482a7d4bfaf0"
      },
      "execution_count": 55,
      "outputs": [
        {
          "output_type": "stream",
          "name": "stdout",
          "text": [
            "5\n",
            "4\n",
            "3\n"
          ]
        }
      ]
    },
    {
      "cell_type": "code",
      "source": [
        "# prompt: callable function with different examples\n",
        "\n",
        "# Check if a function is callable\n",
        "def my_function():\n",
        "  \"\"\"This is a sample function.\"\"\"\n",
        "  print(\"Hello from my_function!\")\n",
        "\n",
        "print(callable(my_function))  # Output: True\n",
        "print(callable(10))  # Output: False\n",
        "print(callable(\"hello\"))  # Output: False\n",
        "print(callable([1, 2, 3]))  # Output: False\n",
        "print(callable(my_function()))  # Output: False (because my_function() returns None)\n"
      ],
      "metadata": {
        "colab": {
          "base_uri": "https://localhost:8080/"
        },
        "id": "2ttQo6JlWqbr",
        "outputId": "28c04869-d80d-49cb-d8cd-d355fa365121"
      },
      "execution_count": 56,
      "outputs": [
        {
          "output_type": "stream",
          "name": "stdout",
          "text": [
            "True\n",
            "False\n",
            "False\n",
            "False\n",
            "Hello from my_function!\n",
            "False\n"
          ]
        }
      ]
    },
    {
      "cell_type": "code",
      "source": [
        "# prompt: repr and str difference\n",
        "\n",
        "class MyClass:\n",
        "    def __init__(self, name, age):\n",
        "        self.name = name\n",
        "        self.age = age\n",
        "\n",
        "    def __str__(self):\n",
        "        return f\"MyClass(name={self.name}, age={self.age})\"\n",
        "\n",
        "    def __repr__(self):\n",
        "        return f\"MyClass('{self.name}', {self.age})\"\n",
        "\n",
        "obj = MyClass(\"Alice\", 30)\n",
        "\n",
        "print(str(obj))  # Output: MyClass(name=Alice, age=30)\n",
        "print(repr(obj))  # Output: MyClass('Alice', 30)\n"
      ],
      "metadata": {
        "colab": {
          "base_uri": "https://localhost:8080/"
        },
        "id": "Jx1rNknkXvIx",
        "outputId": "d85db778-f3b4-45ff-e8dc-210b1e46e5cd"
      },
      "execution_count": 57,
      "outputs": [
        {
          "output_type": "stream",
          "name": "stdout",
          "text": [
            "MyClass(name=Alice, age=30)\n",
            "MyClass('Alice', 30)\n"
          ]
        }
      ]
    },
    {
      "cell_type": "code",
      "source": [
        "line = \"I\\'ll come by then.\"\n",
        "eline = \"\"\n",
        "for i in line:\n",
        "\teline += chr(ord(i)+3)\n",
        "print(eline)\n"
      ],
      "metadata": {
        "colab": {
          "base_uri": "https://localhost:8080/"
        },
        "id": "4GZgC-01W34C",
        "outputId": "3733d55b-c7fb-4c17-f33c-95969379fa4a"
      },
      "execution_count": 58,
      "outputs": [
        {
          "output_type": "stream",
          "name": "stdout",
          "text": [
            "L*oo#frph#e|#wkhq1\n"
          ]
        }
      ]
    },
    {
      "cell_type": "code",
      "source": [
        "# prompt: map lambda filter examples\n",
        "\n",
        "# Map: Apply a function to each element of an iterable.\n",
        "numbers = [1, 2, 3, 4, 5]\n",
        "squaredNum = list((lambda x: x * x, numbers))\n",
        "print(squaredNum)  # Output: [1, 4, 9, 16, 25]\n",
        "squared_numbers = list(map(lambda x: x * x, numbers))\n",
        "print(squared_numbers)  # Output: [1, 4, 9, 16, 25]\n",
        "\n",
        "# Filter: Create a new iterable with elements that satisfy a condition.\n",
        "numbers = [1, 2, 3, 4, 5]\n",
        "even_numbers = list(filter(lambda x: x % 2 == 0, squared_numbers))\n",
        "print(even_numbers)  # Output: [2, 4]\n"
      ],
      "metadata": {
        "colab": {
          "base_uri": "https://localhost:8080/"
        },
        "id": "w_b6oap5ba39",
        "outputId": "0c7d75ce-c66b-4bd6-f4e0-2d508f45f118"
      },
      "execution_count": 62,
      "outputs": [
        {
          "output_type": "stream",
          "name": "stdout",
          "text": [
            "[<function <lambda> at 0x7d10749180d0>, [1, 2, 3, 4, 5]]\n",
            "[1, 4, 9, 16, 25]\n",
            "[4, 16]\n"
          ]
        }
      ]
    },
    {
      "cell_type": "code",
      "source": [
        "param = {'w1': 0.34, 'w2':0.002, 'b1':2, 'b2':2.2}\n",
        "param.items()"
      ],
      "metadata": {
        "colab": {
          "base_uri": "https://localhost:8080/"
        },
        "id": "jN-WMlVDU6gJ",
        "outputId": "c44cf192-e7e8-4adb-a79f-51d88ff97d0f"
      },
      "execution_count": 63,
      "outputs": [
        {
          "output_type": "execute_result",
          "data": {
            "text/plain": [
              "dict_items([('w1', 0.34), ('w2', 0.002), ('b1', 2), ('b2', 2.2)])"
            ]
          },
          "metadata": {},
          "execution_count": 63
        }
      ]
    },
    {
      "cell_type": "code",
      "source": [
        "for key, value in param.items():\n",
        "    print(key, value)"
      ],
      "metadata": {
        "colab": {
          "base_uri": "https://localhost:8080/"
        },
        "id": "cdL1ErWPf0qX",
        "outputId": "0bf2c222-8226-4fe0-ea65-c4108d7628fc"
      },
      "execution_count": 64,
      "outputs": [
        {
          "output_type": "stream",
          "name": "stdout",
          "text": [
            "w1 0.34\n",
            "w2 0.002\n",
            "b1 2\n",
            "b2 2.2\n"
          ]
        }
      ]
    },
    {
      "cell_type": "code",
      "source": [
        "import numpy as np\n",
        "a1D = np.array([1, 2, 3, 4])\n",
        "a2D = np.array([[1, 2], [3, 4]])\n",
        "a3D = np.array([[[1, 2], [3, 4]], [[5, 6], [7, 8]]])\n",
        "\n",
        "print(a1D)\n",
        "print(a2D)\n",
        "print(a3D)\n",
        "np.shape(a1D), np.shape(a2D), np.shape(a3D)"
      ],
      "metadata": {
        "colab": {
          "base_uri": "https://localhost:8080/"
        },
        "id": "t36e_PHphRqQ",
        "outputId": "f6901411-759b-48cc-d0ab-c00e6289f75d"
      },
      "execution_count": 67,
      "outputs": [
        {
          "output_type": "stream",
          "name": "stdout",
          "text": [
            "[1 2 3 4]\n",
            "[[1 2]\n",
            " [3 4]]\n",
            "[[[1 2]\n",
            "  [3 4]]\n",
            "\n",
            " [[5 6]\n",
            "  [7 8]]]\n"
          ]
        },
        {
          "output_type": "execute_result",
          "data": {
            "text/plain": [
              "((4,), (2, 2), (2, 2, 2))"
            ]
          },
          "metadata": {},
          "execution_count": 67
        }
      ]
    },
    {
      "cell_type": "code",
      "source": [
        "# prompt: examples oops, inheritance\n",
        "\n",
        "class Animal:\n",
        "  \"\"\"A class representing an animal.\"\"\"\n",
        "\n",
        "  def __init__(self, name, species):\n",
        "    \"\"\"Initialize the Animal object.\"\"\"\n",
        "    self.name = name\n",
        "    self.species = species\n",
        "\n",
        "  def make_sound(self):\n",
        "    \"\"\"Make a generic animal sound.\"\"\"\n",
        "    print(\"Generic animal sound\")\n",
        "\n",
        "  def move(self):\n",
        "    \"\"\"Move the animal.\"\"\"\n",
        "    print(\"Animal is moving\")\n",
        "\n",
        "\n",
        "class Dog(Animal):\n",
        "  \"\"\"A class representing a dog.\"\"\"\n",
        "\n",
        "  def __init__(self, name, breed):\n",
        "    \"\"\"Initialize the Dog object.\"\"\"\n",
        "    super().__init__(name, species=\"Dog\")\n",
        "    self.breed = breed\n",
        "\n",
        "  def make_sound(self):\n",
        "    \"\"\"Make a dog sound.\"\"\"\n",
        "    print(\"Woof!\")\n",
        "\n",
        "  def fetch(self):\n",
        "    \"\"\"Fetch a toy.\"\"\"\n",
        "    print(\"Fetching...\")\n",
        "\n",
        "\n",
        "class Cat(Animal):\n",
        "  \"\"\"A class representing a cat.\"\"\"\n",
        "\n",
        "  def __init__(self, name, color):\n",
        "    \"\"\"Initialize the Cat object.\"\"\"\n",
        "    super().__init__(name, species=\"Cat\")\n",
        "    self.color = color\n",
        "\n",
        "  def make_sound(self):\n",
        "    \"\"\"Make a cat sound.\"\"\"\n",
        "    print(\"Meow!\")\n",
        "\n",
        "  def scratch(self):\n",
        "    \"\"\"Scratch something.\"\"\"\n",
        "    print(\"Scratching...\")\n",
        "\n",
        "\n",
        "# Create instances of the classes\n",
        "my_dog = Dog(\"Buddy\", \"Golden Retriever\")\n",
        "my_cat = Cat(\"Whiskers\", \"Gray\")\n",
        "\n",
        "# Access attributes and methods\n",
        "print(my_dog.name)  # Output: Buddy\n",
        "print(my_dog.breed)  # Output: Golden Retriever\n",
        "my_dog.make_sound()  # Output: Woof!\n",
        "my_dog.fetch()  # Output: Fetching...\n",
        "\n",
        "print(my_cat.name)  # Output: Whiskers\n",
        "print(my_cat.color)  # Output: Gray\n",
        "my_cat.make_sound()  # Output: Meow!\n",
        "my_cat.scratch()  # Output: Scratching...\n"
      ],
      "metadata": {
        "colab": {
          "base_uri": "https://localhost:8080/"
        },
        "id": "_E0pUxNtl_Ul",
        "outputId": "cde07116-680e-4bf6-d4c9-e8628f9b2301"
      },
      "execution_count": 68,
      "outputs": [
        {
          "output_type": "stream",
          "name": "stdout",
          "text": [
            "Buddy\n",
            "Golden Retriever\n",
            "Woof!\n",
            "Fetching...\n",
            "Whiskers\n",
            "Gray\n",
            "Meow!\n",
            "Scratching...\n"
          ]
        }
      ]
    },
    {
      "cell_type": "code",
      "source": [
        "normal_set = set([\"a\", \"b\",\"c\"])\n",
        "\n",
        "print(\"Normal Set\")\n",
        "print(normal_set)\n",
        "\n",
        "# A frozen set\n",
        "frozen_set = frozenset([\"e\", \"f\", \"g\"])\n",
        "\n",
        "print(\"\\nFrozen Set\")\n",
        "print(frozen_set)\n",
        "\n"
      ],
      "metadata": {
        "colab": {
          "base_uri": "https://localhost:8080/"
        },
        "id": "_-8TTkab8rQM",
        "outputId": "99d7f997-d774-45a7-f844-962688b7615b"
      },
      "execution_count": 69,
      "outputs": [
        {
          "output_type": "stream",
          "name": "stdout",
          "text": [
            "Normal Set\n",
            "{'b', 'c', 'a'}\n",
            "\n",
            "Frozen Set\n",
            "frozenset({'g', 'e', 'f'})\n"
          ]
        }
      ]
    },
    {
      "cell_type": "code",
      "source": [
        "# prompt: frozenset bytearray stacks queues\n",
        "\n",
        "# Frozenset: An immutable version of a set.\n",
        "my_frozenset = frozenset([1, 2, 0])\n",
        "print(my_frozenset)  # Output: frozenset({1, 2, 3})\n",
        "\n",
        "# Bytearray: A mutable sequence of bytes.\n",
        "my_bytearray = bytearray([65, 66, 67])  # ASCII values for 'A', 'B', 'C'\n",
        "print(my_bytearray)  # Output: bytearray(b'ABC')\n",
        "\n",
        "# Stacks: LIFO (Last-In, First-Out) data structure.\n",
        "# Using a list as a stack\n",
        "my_stack = []\n",
        "my_stack.append(1)\n",
        "my_stack.append(2)\n",
        "my_stack.append(3)\n",
        "print(my_stack.pop())  # Output: 3\n",
        "print(my_stack.pop())  # Output: 2\n",
        "\n",
        "# Queues: FIFO (First-In, First-Out) data structure.\n",
        "from collections import deque\n",
        "my_queue = deque([1, 2, 3])\n",
        "my_queue.append(4)\n",
        "print(my_queue.popleft())  # Output: 1\n"
      ],
      "metadata": {
        "colab": {
          "base_uri": "https://localhost:8080/"
        },
        "id": "IjBopCtr88yq",
        "outputId": "0ec7ac7e-7b31-4c0a-9baa-5bfe87b5984d"
      },
      "execution_count": 71,
      "outputs": [
        {
          "output_type": "stream",
          "name": "stdout",
          "text": [
            "frozenset({0, 1, 2})\n",
            "bytearray(b'ABC')\n",
            "3\n",
            "2\n",
            "1\n"
          ]
        }
      ]
    },
    {
      "cell_type": "code",
      "source": [
        "from collections import UserList\n",
        "\n",
        "# Creating a custom list class by inheriting from UserList\n",
        "class MyList(UserList):\n",
        "    # Adding a custom method\n",
        "    def square_elements(self):\n",
        "        self.data = [x ** 2 for x in self.data]\n",
        "\n",
        "# Creating an instance of the custom list\n",
        "my_custom_list = MyList([1, 2, 3, 4, 5])\n",
        "\n",
        "# Displaying the original list\n",
        "print(\"Original List:\", my_custom_list)\n",
        "\n",
        "# Using the custom method to square elements\n",
        "my_custom_list.square_elements()\n",
        "print(\"List after Squaring Elements:\", my_custom_list)\n",
        "\n",
        "# Accessing elements using standard list methods\n",
        "element_at_index_2 = my_custom_list[2]\n",
        "print(\"Element at Index 2:\", element_at_index_2)\n",
        "\n",
        "# Modifying an element\n",
        "my_custom_list[1] = 10\n",
        "print(\"Modified List:\", my_custom_list)"
      ],
      "metadata": {
        "colab": {
          "base_uri": "https://localhost:8080/"
        },
        "id": "ps-E5mlH9qQL",
        "outputId": "25c3bbfb-ce04-41d6-9569-f15d2a035389"
      },
      "execution_count": 72,
      "outputs": [
        {
          "output_type": "stream",
          "name": "stdout",
          "text": [
            "Original List: [1, 2, 3, 4, 5]\n",
            "List after Squaring Elements: [1, 4, 9, 16, 25]\n",
            "Element at Index 2: 9\n",
            "Modified List: [1, 10, 9, 16, 25]\n"
          ]
        }
      ]
    },
    {
      "cell_type": "code",
      "source": [
        "# prompt: ordereddict deque defaultdict chainmap tabulardata\n",
        "\n",
        "from collections import OrderedDict, deque, defaultdict, ChainMap\n",
        "from tabulate import tabulate\n",
        "\n",
        "# OrderedDict: A dictionary that remembers the order of insertion.\n",
        "ordered_dict = OrderedDict()\n",
        "ordered_dict['a'] = 1\n",
        "ordered_dict['b'] = 2\n",
        "ordered_dict['c'] = 3\n",
        "print(\"OrderedDict:\", ordered_dict)\n",
        "\n",
        "# deque: A double-ended queue, provides fast append and pop operations from both ends.\n",
        "my_deque = deque([1, 2, 3])\n",
        "my_deque.append(4)\n",
        "my_deque.appendleft(0)\n",
        "print(\"Deque:\", my_deque)\n",
        "\n",
        "# defaultdict: A dictionary that automatically creates default values for missing keys.\n",
        "default_dict = defaultdict(int)\n",
        "default_dict['a'] = 1\n",
        "print(\"Defaultdict:\", default_dict['a'], default_dict['b'])\n",
        "\n",
        "# ChainMap: Combines multiple dictionaries into a single view.\n",
        "dict1 = {'a': 1, 'b': 2}\n",
        "dict2 = {'c': 3, 'd': 4}\n",
        "combined_dict = ChainMap(dict1, dict2)\n",
        "print(\"ChainMap:\", combined_dict)\n",
        "\n",
        "# tabulate: Formats data into a tabular form.\n",
        "data = [[\"Name\", \"Age\", \"City\"], [\"Alice\", 30, \"New York\"], [\"Bob\", 25, \"London\"]]\n",
        "print(\"Tabular Data:\\n\", tabulate(data, headers=\"firstrow\", tablefmt=\"grid\"))\n"
      ],
      "metadata": {
        "colab": {
          "base_uri": "https://localhost:8080/"
        },
        "id": "XYt_3Y8Z-TiM",
        "outputId": "da71b054-69f4-45a1-e71d-cd2777221968"
      },
      "execution_count": 73,
      "outputs": [
        {
          "output_type": "stream",
          "name": "stdout",
          "text": [
            "OrderedDict: OrderedDict([('a', 1), ('b', 2), ('c', 3)])\n",
            "Deque: deque([0, 1, 2, 3, 4])\n",
            "Defaultdict: 1 0\n",
            "ChainMap: ChainMap({'a': 1, 'b': 2}, {'c': 3, 'd': 4})\n",
            "Tabular Data:\n",
            " +--------+-------+----------+\n",
            "| Name   |   Age | City     |\n",
            "+========+=======+==========+\n",
            "| Alice  |    30 | New York |\n",
            "+--------+-------+----------+\n",
            "| Bob    |    25 | London   |\n",
            "+--------+-------+----------+\n"
          ]
        }
      ]
    },
    {
      "cell_type": "code",
      "source": [
        "from collections import OrderedDict\n",
        "\n",
        "# Creating an OrderedDict\n",
        "ordered_dict = OrderedDict()\n",
        "\n",
        "# Adding key-value pairs\n",
        "ordered_dict['one'] = 1\n",
        "ordered_dict['two'] = 2\n",
        "ordered_dict['three'] = 3\n",
        "\n",
        "# Displaying the original order\n",
        "print(\"Original Order:\", ordered_dict)\n",
        "\n",
        "# Moving 'two' to the end\n",
        "ordered_dict.move_to_end('two')\n",
        "\n",
        "# Displaying the updated order\n",
        "print(\"After Moving 'two' to End:\", ordered_dict)"
      ],
      "metadata": {
        "colab": {
          "base_uri": "https://localhost:8080/"
        },
        "id": "rgtDnB5B_Efd",
        "outputId": "e6e7a678-aff0-46d4-c175-2c67864ad476"
      },
      "execution_count": 74,
      "outputs": [
        {
          "output_type": "stream",
          "name": "stdout",
          "text": [
            "Original Order: OrderedDict([('one', 1), ('two', 2), ('three', 3)])\n",
            "After Moving 'two' to End: OrderedDict([('one', 1), ('three', 3), ('two', 2)])\n"
          ]
        }
      ]
    },
    {
      "cell_type": "code",
      "source": [
        "#deque\n",
        "from collections import deque\n",
        "\n",
        "# Initializing a deque\n",
        "my_deque = deque([1, 2, 3, 4, 5])\n",
        "\n",
        "# Appending elements at the right end\n",
        "my_deque.append(6)\n",
        "my_deque.append(7)\n",
        "\n",
        "# Displaying the deque\n",
        "print(\"Original Deque:\", my_deque)\n",
        "\n",
        "# Popping element from the right end\n",
        "popped_right = my_deque.pop()\n",
        "print(\"Popped from Right:\", popped_right)\n",
        "print(\"Updated Deque:\", my_deque)\n",
        "\n",
        "# Appending elements at the left end\n",
        "my_deque.appendleft(0)\n",
        "my_deque.appendleft(-1)\n",
        "\n",
        "# Displaying the updated deque\n",
        "print(\"Updated Deque after Appending Left:\", my_deque)\n",
        "\n",
        "# Popping element from the left end\n",
        "popped_left = my_deque.popleft()\n",
        "print(\"Popped from Left:\", popped_left)\n",
        "print(\"Final Deque:\", my_deque)\n"
      ],
      "metadata": {
        "colab": {
          "base_uri": "https://localhost:8080/"
        },
        "id": "D6w7XgmdAsvB",
        "outputId": "856732cc-e352-47a4-c31c-9d41bde653d4"
      },
      "execution_count": 75,
      "outputs": [
        {
          "output_type": "stream",
          "name": "stdout",
          "text": [
            "Original Deque: deque([1, 2, 3, 4, 5, 6, 7])\n",
            "Popped from Right: 7\n",
            "Updated Deque: deque([1, 2, 3, 4, 5, 6])\n",
            "Updated Deque after Appending Left: deque([-1, 0, 1, 2, 3, 4, 5, 6])\n",
            "Popped from Left: -1\n",
            "Final Deque: deque([0, 1, 2, 3, 4, 5, 6])\n"
          ]
        }
      ]
    },
    {
      "cell_type": "code",
      "source": [
        "#namedtuple\n",
        "from collections import namedtuple\n",
        "\n",
        "# Creating a namedtuple class\n",
        "Person = namedtuple('Person', ['name', 'age', 'gender'])\n",
        "\n",
        "# Creating instances of the namedtuple\n",
        "person1 = Person(name='Alice', age=25, gender='Female')\n",
        "person2 = Person(name='Bob', age=30, gender='Male')\n",
        "\n",
        "# Accessing fields using names\n",
        "print(\"Person 1:\", person1.name, person1.age, person1.gender)\n",
        "print(\"Person 2:\", person2.name, person2.age, person2.gender)"
      ],
      "metadata": {
        "colab": {
          "base_uri": "https://localhost:8080/"
        },
        "id": "uyrXedU0A5UV",
        "outputId": "03a5d136-d51a-4bea-d0e2-ce08db6f0132"
      },
      "execution_count": 76,
      "outputs": [
        {
          "output_type": "stream",
          "name": "stdout",
          "text": [
            "Person 1: Alice 25 Female\n",
            "Person 2: Bob 30 Male\n"
          ]
        }
      ]
    },
    {
      "cell_type": "code",
      "source": [
        "from collections import defaultdict\n",
        "\n",
        "# Initializing defaultdict with int factory function\n",
        "fruit_counter = defaultdict(int)\n",
        "\n",
        "# Counting occurrences of fruits\n",
        "fruits = ['apple', 'orange', 'banana', 'apple', 'banana', 'grape']\n",
        "\n",
        "for fruit in fruits:\n",
        "    fruit_counter[fruit] += 1\n",
        "\n",
        "# Displaying the defaultdict\n",
        "print(\"Fruit Counter:\", dict(fruit_counter))\n",
        "\n",
        "# Accessing a key with default value\n",
        "kiwi_count = fruit_counter['kiwi']\n",
        "print(\"Count of Kiwi (Default Value):\", kiwi_count)\n",
        "\n",
        "# Initializing defaultdict with list factory function\n",
        "fruit_groups = defaultdict(list)\n",
        "\n",
        "# Grouping fruits by their first letter\n",
        "for fruit in fruits:\n",
        "    fruit_groups[fruit[0]].append(fruit)\n",
        "\n",
        "# Displaying the grouped defaultdict\n",
        "print(\"Fruit Groups:\", dict(fruit_groups))"
      ],
      "metadata": {
        "colab": {
          "base_uri": "https://localhost:8080/"
        },
        "id": "P9mwhGhBBIxv",
        "outputId": "d91a3de0-8fb8-4d08-b7ce-0581e67d9254"
      },
      "execution_count": 77,
      "outputs": [
        {
          "output_type": "stream",
          "name": "stdout",
          "text": [
            "Fruit Counter: {'apple': 2, 'orange': 1, 'banana': 2, 'grape': 1}\n",
            "Count of Kiwi (Default Value): 0\n",
            "Fruit Groups: {'a': ['apple', 'apple'], 'o': ['orange'], 'b': ['banana', 'banana'], 'g': ['grape']}\n"
          ]
        }
      ]
    },
    {
      "cell_type": "code",
      "source": [
        "from collections import Counter\n",
        "\n",
        "# Creating a Counter from a list\n",
        "fruit_list = ['apple', 'orange', 'banana', 'apple', 'banana', 'grape']\n",
        "fruit_counter = Counter(fruit_list)\n",
        "\n",
        "# Displaying the Counter\n",
        "print(\"Fruit Counter:\", fruit_counter)\n",
        "\n",
        "# Counting occurrences of a specific element\n",
        "apple_count = fruit_counter['apple']\n",
        "print(\"Count of Apples:\", apple_count)\n",
        "\n",
        "# Displaying the most common elements\n",
        "most_common = fruit_counter.most_common(1)\n",
        "print(\"Most Common Elements:\", most_common)\n",
        "\n",
        "# Adding new data to the Counter\n",
        "more_fruits = ['apple', 'kiwi', 'banana']\n",
        "fruit_counter.update(more_fruits)\n",
        "\n",
        "# Displaying the updated Counter\n",
        "print(\"Updated Fruit Counter:\", fruit_counter)"
      ],
      "metadata": {
        "colab": {
          "base_uri": "https://localhost:8080/"
        },
        "id": "GfM72S1GBMlp",
        "outputId": "ff4763bd-4961-44f9-da7e-abfdf877d902"
      },
      "execution_count": 78,
      "outputs": [
        {
          "output_type": "stream",
          "name": "stdout",
          "text": [
            "Fruit Counter: Counter({'apple': 2, 'banana': 2, 'orange': 1, 'grape': 1})\n",
            "Count of Apples: 2\n",
            "Most Common Elements: [('apple', 2)]\n",
            "Updated Fruit Counter: Counter({'apple': 3, 'banana': 3, 'orange': 1, 'grape': 1, 'kiwi': 1})\n"
          ]
        }
      ]
    },
    {
      "cell_type": "code",
      "source": [
        "from collections import ChainMap\n",
        "\n",
        "#Creating two dictionaries\n",
        "dict1 = {'apple': 1, 'banana': 2}\n",
        "dict2 = {'banana': 3, 'orange': 4}\n",
        "\n",
        "#Creating a ChainMap\n",
        "chain = ChainMap(dict1, dict2)\n",
        "\n",
        "#Displaying\n",
        "print(\"ChainMap:\", chain)\n",
        "\n",
        "#Accessing values\n",
        "print(\"Value for 'apple':\", chain['apple'])\n",
        "print(\"Value for 'banana':\", chain['banana'])\n",
        "print(\"Value for 'orange':\", chain['orange'])\n",
        "\n",
        "#Adding new dictionary to chain map\n",
        "dict3 = {'kiwi': 5}\n",
        "chain_with_kiwi = chain.new_child(dict3)\n",
        "\n",
        "#Displaying\n",
        "print(\"ChainMap with Kiwi:\", chain_with_kiwi)\n",
        "\n",
        "#Updating values in original dictionaries\n",
        "dict1['banana'] = 10\n",
        "dict2['banana'] = 15\n",
        "\n",
        "#Displaying\n",
        "print(\"Updated ChainMap:\", chain_with_kiwi)"
      ],
      "metadata": {
        "colab": {
          "base_uri": "https://localhost:8080/"
        },
        "id": "HLxEGhUOBQ-5",
        "outputId": "d07a9da6-be08-47dc-da06-32de42504202"
      },
      "execution_count": 83,
      "outputs": [
        {
          "output_type": "stream",
          "name": "stdout",
          "text": [
            "ChainMap: ChainMap({'apple': 1, 'banana': 2}, {'banana': 3, 'orange': 4})\n",
            "Value for 'apple': 1\n",
            "Value for 'banana': 2\n",
            "Value for 'orange': 4\n",
            "ChainMap with Kiwi: ChainMap({'kiwi': 5}, {'apple': 1, 'banana': 2}, {'banana': 3, 'orange': 4})\n",
            "Updated ChainMap: ChainMap({'kiwi': 5}, {'apple': 1, 'banana': 10}, {'banana': 15, 'orange': 4})\n"
          ]
        }
      ]
    }
  ]
}
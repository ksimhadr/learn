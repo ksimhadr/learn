{
  "nbformat": 4,
  "nbformat_minor": 0,
  "metadata": {
    "colab": {
      "provenance": [],
      "authorship_tag": "ABX9TyMc85blpzti1lZ2606FHfeD",
      "include_colab_link": true
    },
    "kernelspec": {
      "name": "python3",
      "display_name": "Python 3"
    },
    "language_info": {
      "name": "python"
    }
  },
  "cells": [
    {
      "cell_type": "markdown",
      "metadata": {
        "id": "view-in-github",
        "colab_type": "text"
      },
      "source": [
        "<a href=\"https://colab.research.google.com/github/ksimhadr/learn/blob/master/FileIOFormats.ipynb\" target=\"_parent\"><img src=\"https://colab.research.google.com/assets/colab-badge.svg\" alt=\"Open In Colab\"/></a>"
      ]
    },
    {
      "cell_type": "markdown",
      "source": [
        "File IO and Data readers (i.e. data handlers)\n",
        "- strings\n",
        "- bytearray\n",
        "- structured data (ordered dictionaries)\n",
        "- collections\n",
        "- namedtuple\n",
        "- deque\n",
        "- defaultdict\n",
        "- Counter\n",
        "- OrderedDict\n",
        "- ChainMap (collections of dictionaries)\n",
        "- tabular data (dataframes from the pandas)"
      ],
      "metadata": {
        "id": "qLpQ7z-KI6Gm"
      }
    },
    {
      "cell_type": "markdown",
      "source": [
        "\n",
        "*   Bytearray\n",
        "    The bytearray type in Python is a mutable sequence of bytes\n",
        "\n",
        "\n"
      ],
      "metadata": {
        "id": "eQa5COsiI86Q"
      }
    },
    {
      "cell_type": "code",
      "execution_count": 2,
      "metadata": {
        "colab": {
          "base_uri": "https://localhost:8080/"
        },
        "id": "ympTazkrBRyc",
        "outputId": "e9631c91-c1df-4e87-9b68-e934d697efd5"
      },
      "outputs": [
        {
          "output_type": "stream",
          "name": "stdout",
          "text": [
            "Modified Bytearray: bytearray(b'Iello, World! How are you?')\n",
            "Converted Bytes Object: b'Iello, World! How are you?'\n"
          ]
        }
      ],
      "source": [
        "# Creating a bytearray\n",
        "byte_array = bytearray(b'Hello, World!')\n",
        "\n",
        "# Modifying the bytearray\n",
        "byte_array[0] = 73  # ASCII code for 'H'\n",
        "byte_array.extend(b' How are you?')\n",
        "\n",
        "# Displaying the modified bytearray\n",
        "print(\"Modified Bytearray:\", byte_array)\n",
        "\n",
        "# Converting the bytearray to a bytes object\n",
        "bytes_object = bytes(byte_array)\n",
        "print(\"Converted Bytes Object:\", bytes_object)"
      ]
    },
    {
      "cell_type": "markdown",
      "source": [
        "OrderedDict\n",
        "An OrderedDict is also a sub-class of dictionary but unlike a dictionary, it remembers the order in which the keys were inserted.\n",
        "\n",
        "OrderedDict is a dictionary subclass introduced in Python 3.1 that maintains the order of the keys as they are inserted.\n",
        "Unlike the standard dictionary, OrderedDict remembers the order of key insertion, making it useful in scenarios where the order of items matters.\n",
        "Internally, OrderedDict uses a doubly linked list to maintain the order of the keys, ensuring efficient insertions and deletions while preserving order.\n",
        "OrderedDict provides methods similar to a regular dictionary, but it adds features related to maintaining order, such as move_to_end()."
      ],
      "metadata": {
        "id": "9nUw1wSUN0Q6"
      }
    },
    {
      "cell_type": "code",
      "source": [
        "from collections import OrderedDict\n",
        "\n",
        "# Creating an OrderedDict\n",
        "ordered_dict = OrderedDict()\n",
        "\n",
        "# Adding key-value pairs\n",
        "ordered_dict['one'] = 1\n",
        "ordered_dict['two'] = 2\n",
        "ordered_dict['three'] = 3\n",
        "\n",
        "# Displaying the original order\n",
        "print(\"Original Order:\", ordered_dict)\n",
        "\n",
        "# Moving 'two' to the end\n",
        "ordered_dict.move_to_end('two')\n",
        "\n",
        "# Displaying the updated order\n",
        "print(\"After Moving 'two' to End:\", ordered_dict)"
      ],
      "metadata": {
        "colab": {
          "base_uri": "https://localhost:8080/"
        },
        "id": "7j0fanBwN16g",
        "outputId": "0c92632a-912b-48bd-8b0f-d6571743c7f6"
      },
      "execution_count": 3,
      "outputs": [
        {
          "output_type": "stream",
          "name": "stdout",
          "text": [
            "Original Order: OrderedDict([('one', 1), ('two', 2), ('three', 3)])\n",
            "After Moving 'two' to End: OrderedDict([('one', 1), ('three', 3), ('two', 2)])\n"
          ]
        }
      ]
    },
    {
      "cell_type": "markdown",
      "source": [
        "Collections\n",
        "The collections module in Python provides alternatives and extensions to the built-in data types, offering additional functionality and optimizations.\n",
        "\n",
        "  - namedtuple\n",
        "  - deque\n",
        "  - defaultdict\n",
        "  - Counter\n",
        "  - OrderedDict\n",
        "  - ChainMap\n",
        "namedtuple\n",
        "\n",
        "  - namedtuple creates simple classes with named fields, making code more readable by allowing attribute access using names.\n",
        "  - enhances code readability by providing meaningful names to fields, making the code self-documenting."
      ],
      "metadata": {
        "id": "rP-KVyq7OXrH"
      }
    },
    {
      "cell_type": "code",
      "source": [
        "from collections import namedtuple\n",
        "\n",
        "# Creating a namedtuple class\n",
        "Person = namedtuple('Person', ['name', 'age', 'gender'])\n",
        "\n",
        "# Creating instances of the namedtuple\n",
        "person1 = Person(name='Alice', age=25, gender='Female')\n",
        "person2 = Person(name='Bob', age=30, gender='Male')\n",
        "\n",
        "# Accessing fields using names\n",
        "print(\"Person 1:\", person1.name, person1.age, person1.gender)\n",
        "print(\"Person 2:\", person2.name, person2.age, person2.gender)"
      ],
      "metadata": {
        "colab": {
          "base_uri": "https://localhost:8080/"
        },
        "id": "mrzmjhROOZgZ",
        "outputId": "286b99a3-e33a-4f37-dd4c-061d343cc15c"
      },
      "execution_count": 4,
      "outputs": [
        {
          "output_type": "stream",
          "name": "stdout",
          "text": [
            "Person 1: Alice 25 Female\n",
            "Person 2: Bob 30 Male\n"
          ]
        }
      ]
    },
    {
      "cell_type": "code",
      "source": [
        "from collections import deque\n",
        "\n",
        "# Initializing a deque\n",
        "my_deque = deque([1, 2, 3, 4, 5])\n",
        "\n",
        "# Appending elements at the right end\n",
        "my_deque.append(6)\n",
        "my_deque.append(7)\n",
        "\n",
        "# Displaying the deque\n",
        "print(\"Original Deque:\", my_deque)\n",
        "\n",
        "# Popping element from the right end\n",
        "popped_right = my_deque.pop()\n",
        "print(\"Popped from Right:\", popped_right)\n",
        "print(\"Updated Deque:\", my_deque)\n",
        "\n",
        "# Appending elements at the left end\n",
        "my_deque.appendleft(0)\n",
        "my_deque.appendleft(-1)\n",
        "\n",
        "# Displaying the updated deque\n",
        "print(\"Updated Deque after Appending Left:\", my_deque)\n",
        "\n",
        "# Popping element from the left end\n",
        "popped_left = my_deque.popleft()\n",
        "print(\"Popped from Left:\", popped_left)\n",
        "print(\"Final Deque:\", my_deque)"
      ],
      "metadata": {
        "colab": {
          "base_uri": "https://localhost:8080/"
        },
        "id": "jZqB8F8EOXVS",
        "outputId": "a7a553ee-f61f-46b4-9d43-2c297a460b1f"
      },
      "execution_count": 5,
      "outputs": [
        {
          "output_type": "stream",
          "name": "stdout",
          "text": [
            "Original Deque: deque([1, 2, 3, 4, 5, 6, 7])\n",
            "Popped from Right: 7\n",
            "Updated Deque: deque([1, 2, 3, 4, 5, 6])\n",
            "Updated Deque after Appending Left: deque([-1, 0, 1, 2, 3, 4, 5, 6])\n",
            "Popped from Left: -1\n",
            "Final Deque: deque([0, 1, 2, 3, 4, 5, 6])\n"
          ]
        }
      ]
    },
    {
      "cell_type": "code",
      "source": [
        "from collections import defaultdict\n",
        "\n",
        "# Initializing defaultdict with int factory function\n",
        "fruit_counter = defaultdict(int)\n",
        "\n",
        "# Counting occurrences of fruits\n",
        "fruits = ['apple', 'orange', 'banana', 'apple', 'banana', 'grape']\n",
        "\n",
        "for fruit in fruits:\n",
        "    fruit_counter[fruit] += 1\n",
        "\n",
        "# Displaying the defaultdict\n",
        "print(\"Fruit Counter:\", dict(fruit_counter))\n",
        "\n",
        "# Accessing a key with default value\n",
        "kiwi_count = fruit_counter['kiwi']\n",
        "print(\"Count of Kiwi (Default Value):\", kiwi_count)\n",
        "\n",
        "# Initializing defaultdict with list factory function\n",
        "fruit_groups = defaultdict(list)\n",
        "\n",
        "# Grouping fruits by their first letter\n",
        "for fruit in fruits:\n",
        "    fruit_groups[fruit[0]].append(fruit)\n",
        "\n",
        "# Displaying the grouped defaultdict\n",
        "print(\"Fruit Groups:\", dict(fruit_groups))"
      ],
      "metadata": {
        "colab": {
          "base_uri": "https://localhost:8080/"
        },
        "id": "b5D8vfcSX6p4",
        "outputId": "d4198995-ec32-463b-c34c-0ce3e417b267"
      },
      "execution_count": 6,
      "outputs": [
        {
          "output_type": "stream",
          "name": "stdout",
          "text": [
            "Fruit Counter: {'apple': 2, 'orange': 1, 'banana': 2, 'grape': 1}\n",
            "Count of Kiwi (Default Value): 0\n",
            "Fruit Groups: {'a': ['apple', 'apple'], 'o': ['orange'], 'b': ['banana', 'banana'], 'g': ['grape']}\n"
          ]
        }
      ]
    },
    {
      "cell_type": "code",
      "source": [
        "from collections import Counter\n",
        "\n",
        "# Creating a Counter from a list\n",
        "fruit_list = ['apple', 'orange', 'banana', 'apple', 'banana', 'grape']\n",
        "fruit_counter = Counter(fruit_list)\n",
        "\n",
        "# Displaying the Counter\n",
        "print(\"Fruit Counter:\", fruit_counter)\n",
        "\n",
        "# Counting occurrences of a specific element\n",
        "apple_count = fruit_counter['apple']\n",
        "print(\"Count of Apples:\", apple_count)\n",
        "\n",
        "# Displaying the most common elements\n",
        "most_common = fruit_counter.most_common(1)\n",
        "print(\"Most Common Elements:\", most_common)\n",
        "\n",
        "# Adding new data to the Counter\n",
        "more_fruits = ['apple', 'kiwi', 'banana']\n",
        "fruit_counter.update(more_fruits)\n",
        "\n",
        "# Displaying the updated Counter\n",
        "print(\"Updated Fruit Counter:\", fruit_counter)"
      ],
      "metadata": {
        "colab": {
          "base_uri": "https://localhost:8080/"
        },
        "id": "wDUIo0EJZEQ8",
        "outputId": "884118e3-6197-40d6-c597-fe07c01700d6"
      },
      "execution_count": 7,
      "outputs": [
        {
          "output_type": "stream",
          "name": "stdout",
          "text": [
            "Fruit Counter: Counter({'apple': 2, 'banana': 2, 'orange': 1, 'grape': 1})\n",
            "Count of Apples: 2\n",
            "Most Common Elements: [('apple', 2)]\n",
            "Updated Fruit Counter: Counter({'apple': 3, 'banana': 3, 'orange': 1, 'grape': 1, 'kiwi': 1})\n"
          ]
        }
      ]
    },
    {
      "cell_type": "code",
      "source": [
        "from collections import ChainMap\n",
        "\n",
        "# Creating two dictionaries\n",
        "dict1 = {'apple': 1, 'banana': 2}\n",
        "dict2 = {'banana': 3, 'orange': 4}\n",
        "\n",
        "# Creating a ChainMap\n",
        "chain_map = ChainMap(dict2, dict1)\n",
        "\n",
        "# Displaying the ChainMap\n",
        "print(\"ChainMap:\", chain_map)\n",
        "\n",
        "# Accessing values\n",
        "print(\"Value of 'banana':\", chain_map['banana'])\n",
        "\n",
        "# Adding a new dictionary to the ChainMap\n",
        "dict3 = {'grape': 5, 'kiwi': 6}\n",
        "chain_map = chain_map.new_child(dict3)\n",
        "\n",
        "# Displaying the updated ChainMap\n",
        "print(\"Updated ChainMap:\", chain_map)\n",
        "\n",
        "# Updating values in the original dictionaries\n",
        "dict1['apple'] = 10\n",
        "dict2['orange'] = 40\n",
        "\n",
        "# Displaying the updated ChainMap\n",
        "print(\"Updated ChainMap after modifying original dictionaries:\", chain_map)"
      ],
      "metadata": {
        "colab": {
          "base_uri": "https://localhost:8080/"
        },
        "id": "BmzWqmPmZcC1",
        "outputId": "eaacead9-4ebb-442d-8579-85f9845b4c58"
      },
      "execution_count": 9,
      "outputs": [
        {
          "output_type": "stream",
          "name": "stdout",
          "text": [
            "ChainMap: ChainMap({'banana': 3, 'orange': 4}, {'apple': 1, 'banana': 2})\n",
            "Value of 'banana': 3\n",
            "Updated ChainMap: ChainMap({'grape': 5, 'kiwi': 6}, {'banana': 3, 'orange': 4}, {'apple': 1, 'banana': 2})\n",
            "Updated ChainMap after modifying original dictionaries: ChainMap({'grape': 5, 'kiwi': 6}, {'banana': 3, 'orange': 40}, {'apple': 10, 'banana': 2})\n"
          ]
        }
      ]
    }
  ]
}
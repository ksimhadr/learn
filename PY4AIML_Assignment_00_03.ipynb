{
  "nbformat": 4,
  "nbformat_minor": 0,
  "metadata": {
    "colab": {
      "provenance": [],
      "include_colab_link": true
    },
    "kernelspec": {
      "name": "python3",
      "display_name": "Python 3"
    }
  },
  "cells": [
    {
      "cell_type": "markdown",
      "metadata": {
        "id": "view-in-github",
        "colab_type": "text"
      },
      "source": [
        "<a href=\"https://colab.research.google.com/github/ksimhadr/learn/blob/master/PY4AIML_Assignment_00_03.ipynb\" target=\"_parent\"><img src=\"https://colab.research.google.com/assets/colab-badge.svg\" alt=\"Open In Colab\"/></a>"
      ]
    },
    {
      "cell_type": "markdown",
      "metadata": {
        "id": "Na0j6cv7D83_"
      },
      "source": [
        "# Assignment 00-03 workbook"
      ]
    },
    {
      "cell_type": "markdown",
      "source": [
        "## Assignment 00-3\n",
        "\n",
        "Write a function that takes an integer argument and returns the next number that is a palindrome."
      ],
      "metadata": {
        "id": "1h8A6e0XhxQG"
      }
    },
    {
      "cell_type": "code",
      "source": [
        "def next_palindrome(a: int) -> int:\n",
        "    # Write code here\n",
        "    a += 1\n",
        "    while str(a) != str(a)[::-1]:\n",
        "        a += 1\n",
        "    return a\n",
        "print(next_palindrome(123))"
      ],
      "metadata": {
        "id": "wvZXTVE4h-i4",
        "outputId": "0e3edc31-0850-483c-f4dc-56a6cbe15991",
        "colab": {
          "base_uri": "https://localhost:8080/"
        }
      },
      "execution_count": 4,
      "outputs": [
        {
          "output_type": "stream",
          "name": "stdout",
          "text": [
            "131\n"
          ]
        }
      ]
    },
    {
      "cell_type": "code",
      "source": [
        "def is_palindrome(a: int) -> bool:\n",
        "    return str(a) == str(a) [::-1]\n",
        "\n",
        "def next_palindrome(a: int) -> int:\n",
        "    a += 1\n",
        "    while not is_palindrome(a):\n",
        "        a += 1\n",
        "    return a\n",
        "print(is_palindrome(121))"
      ],
      "metadata": {
        "id": "3dCc3cfHDOmc",
        "outputId": "aa8b140b-0c65-4296-a5c6-e579123983f9",
        "colab": {
          "base_uri": "https://localhost:8080/"
        }
      },
      "execution_count": 6,
      "outputs": [
        {
          "output_type": "stream",
          "name": "stdout",
          "text": [
            "True\n"
          ]
        }
      ]
    },
    {
      "cell_type": "code",
      "source": [],
      "metadata": {
        "id": "TWO84YhAGDYV"
      },
      "execution_count": null,
      "outputs": []
    }
  ]
}
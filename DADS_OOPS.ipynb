{
  "nbformat": 4,
  "nbformat_minor": 0,
  "metadata": {
    "colab": {
      "provenance": [],
      "authorship_tag": "ABX9TyMK0D00d8DvRGMZ0nvZI8ci",
      "include_colab_link": true
    },
    "kernelspec": {
      "name": "python3",
      "display_name": "Python 3"
    },
    "language_info": {
      "name": "python"
    }
  },
  "cells": [
    {
      "cell_type": "markdown",
      "metadata": {
        "id": "view-in-github",
        "colab_type": "text"
      },
      "source": [
        "<a href=\"https://colab.research.google.com/github/ksimhadr/learn/blob/master/DADS_OOPS.ipynb\" target=\"_parent\"><img src=\"https://colab.research.google.com/assets/colab-badge.svg\" alt=\"Open In Colab\"/></a>"
      ]
    },
    {
      "cell_type": "markdown",
      "source": [
        "# A Class is a structure that can be used as a blueprint to create objects that have\n",
        "# Prototyped features, attributes that are variables\n",
        "# methods which are functions that can be applied to the object that is created, or rather, an instance of that class"
      ],
      "metadata": {
        "id": "AoJisnhmvk_R"
      }
    },
    {
      "cell_type": "code",
      "source": [
        "class Robot():\n",
        "  # Robot is a class that is used to perform actions in real world environment\n",
        "\n",
        "  def __init__(self):\n",
        "    # Each robot has x,y position on the ground\n",
        "    self.x = 0\n",
        "    self.y = 0\n",
        "\n",
        "  def move_forward(self):\n",
        "    #robot moves in y-position by 1\n",
        "    self.y +=1"
      ],
      "metadata": {
        "id": "n7Qexf8NwFMH"
      },
      "execution_count": 2,
      "outputs": []
    },
    {
      "cell_type": "markdown",
      "source": [
        "\n",
        "*   Code has not created any robot object\n",
        "*   Once you create it, it will be called an object of this class\n",
        "    'Robot'\n",
        "\n"
      ],
      "metadata": {
        "id": "gXIgvW-Cw4tB"
      }
    },
    {
      "cell_type": "code",
      "source": [
        "ground_robot = Robot()\n",
        "print(ground_robot)\n",
        "\n",
        "print(type(ground_robot))"
      ],
      "metadata": {
        "colab": {
          "base_uri": "https://localhost:8080/"
        },
        "id": "X4jHr53pxJL5",
        "outputId": "6b50a471-f771-4d0c-c9a6-a97a758bb0ed"
      },
      "execution_count": 3,
      "outputs": [
        {
          "output_type": "stream",
          "name": "stdout",
          "text": [
            "<__main__.Robot object at 0x780cb5ce8d60>\n",
            "<class '__main__.Robot'>\n"
          ]
        }
      ]
    },
    {
      "cell_type": "code",
      "source": [
        "ground_robot.move_forward()\n",
        "print(\"robot's position ({}, {})\".format(ground_robot.x,ground_robot.y))"
      ],
      "metadata": {
        "colab": {
          "base_uri": "https://localhost:8080/"
        },
        "id": "bcu9-M8gxcG6",
        "outputId": "cb0fab75-7fff-427d-8e98-4311797f4d3c"
      },
      "execution_count": null,
      "outputs": [
        {
          "output_type": "stream",
          "name": "stdout",
          "text": [
            "robot's position (0, 3)\n"
          ]
        }
      ]
    },
    {
      "cell_type": "code",
      "source": [
        "ground_robot.y = 0\n",
        "ground_robot.move_forward()\n",
        "print(\"robot's position ({},{})\".format(ground_robot.x,ground_robot.y))"
      ],
      "metadata": {
        "colab": {
          "base_uri": "https://localhost:8080/"
        },
        "id": "Go1KyVdQyFHm",
        "outputId": "f83aa96e-7ed2-451f-a4ee-ab10c8ceae34"
      },
      "execution_count": null,
      "outputs": [
        {
          "output_type": "stream",
          "name": "stdout",
          "text": [
            "robot's position (0,1)\n"
          ]
        }
      ]
    },
    {
      "cell_type": "code",
      "source": [
        "#Create a fleet of robots\n",
        "#why we use lists instead of set, tuples, dicts\n",
        "#tuples are immutable, sets are two robots are identical, they will merge together\n",
        "list_robots = []\n",
        "\n",
        "for x in range(0, 10):\n",
        "  new_robot = Robot()\n",
        "  list_robots.append(new_robot)\n",
        "\n",
        "print(list_robots)"
      ],
      "metadata": {
        "colab": {
          "base_uri": "https://localhost:8080/"
        },
        "id": "pnmEyRWPygdW",
        "outputId": "89f20868-f011-4e8c-c5f7-47a7f1014e30"
      },
      "execution_count": null,
      "outputs": [
        {
          "output_type": "stream",
          "name": "stdout",
          "text": [
            "[<__main__.Robot object at 0x79419095b3d0>, <__main__.Robot object at 0x794190959450>, <__main__.Robot object at 0x794190958d60>, <__main__.Robot object at 0x79419095b4f0>, <__main__.Robot object at 0x7941909591b0>, <__main__.Robot object at 0x79419095b220>, <__main__.Robot object at 0x79419095aaa0>, <__main__.Robot object at 0x794190958e50>, <__main__.Robot object at 0x7941909599c0>, <__main__.Robot object at 0x79419095bd90>]\n"
          ]
        }
      ]
    },
    {
      "cell_type": "code",
      "execution_count": null,
      "metadata": {
        "colab": {
          "base_uri": "https://localhost:8080/"
        },
        "id": "buFPfJ4EvcY6",
        "outputId": "a17d3b09-40a7-4013-9e6b-d50349e8ea60"
      },
      "outputs": [
        {
          "output_type": "stream",
          "name": "stdout",
          "text": [
            "robots position (0,0)\n",
            "robots position (0,0)\n",
            "robots position (0,0)\n",
            "robots position (0,0)\n",
            "robots position (0,0)\n",
            "robots position (0,0)\n",
            "robots position (0,0)\n",
            "robots position (0,0)\n",
            "robots position (0,0)\n",
            "robots position (0,0)\n",
            "robot's position (0,0)\n",
            "robot's position (0,0)\n",
            "robot's position (0,1)\n",
            "robot's position (0,0)\n",
            "robot's position (0,0)\n",
            "robot's position (0,0)\n",
            "robot's position (0,0)\n",
            "robot's position (0,0)\n",
            "robot's position (0,0)\n",
            "robot's position (0,0)\n"
          ]
        }
      ],
      "source": [
        "for robot in list_robots:\n",
        "  print(\"robots position ({},{})\".format(robot.x,robot.y)) #all will be initialized with default values\n",
        "\n",
        "list_robots[2].move_forward()\n",
        "for robot in list_robots:\n",
        "  print(\"robot's position ({},{})\".format(robot.x,robot.y))"
      ]
    },
    {
      "cell_type": "code",
      "source": [
        "#List comprehension for the same\n",
        "my_robots = [Robot() for _ in range(0,10)]\n",
        "\n",
        "for robots in my_robots:\n",
        "  print(robots)"
      ],
      "metadata": {
        "colab": {
          "base_uri": "https://localhost:8080/"
        },
        "id": "XArxMdKn0WAI",
        "outputId": "968455e0-5234-413d-fdbc-fd97c7152986"
      },
      "execution_count": 5,
      "outputs": [
        {
          "output_type": "stream",
          "name": "stdout",
          "text": [
            "<__main__.Robot object at 0x780cb5ce8c70>\n",
            "<__main__.Robot object at 0x780cb5ce9030>\n",
            "<__main__.Robot object at 0x780cb5ce95d0>\n",
            "<__main__.Robot object at 0x780cb5ce8e50>\n",
            "<__main__.Robot object at 0x780cb5ce9c30>\n",
            "<__main__.Robot object at 0x780cb5ce9ff0>\n",
            "<__main__.Robot object at 0x780cb5ce9ed0>\n",
            "<__main__.Robot object at 0x780cb5ce8f40>\n",
            "<__main__.Robot object at 0x780cb5ce93f0>\n",
            "<__main__.Robot object at 0x780cb5ce94e0>\n"
          ]
        }
      ]
    },
    {
      "cell_type": "markdown",
      "source": [
        "#The __init__() method\n",
        "Function names that start and end with two underscores are special built-in functions that Python uses in certain ways. The __init()__ method is one of these special functions. It is called automatically when you create an object from your class. The __init()__ method lets you make sure that all relevant attributes are set to their proper values when an object is created from the class, before the object is used. In this case, The __init__() method initializes the x and y values of the Rocket to 0.\n",
        "\n",
        "- The word \"self\" refers to the current object that you are working with. When you are writing a class, it lets you refer to certain attributes from any other part of the class. Basically, all methods in a class need the *self* object as their first argument, so they can access any attribute that is part of the class.\n",
        "-classes are usually saved in a separate file, and then imported into the program you are working on. So you can build a library of classes, and use those classes over and over again in different programs."
      ],
      "metadata": {
        "id": "gasqeOyHemAP"
      }
    },
    {
      "cell_type": "code",
      "source": [
        "from math import sqrt\n",
        "\n",
        "class Robot():\n",
        "    # Robot to perform & act in real world environment\n",
        "\n",
        "    def __init__(self, x=0, y=0):\n",
        "        # Each robot has an (x,y) position on the ground.\n",
        "        self.x = x\n",
        "        self.y = y\n",
        "\n",
        "    def move_forward(self):\n",
        "        # Increment the y-position of the robot.\n",
        "        self.y += 1\n",
        "\n",
        "    def move_robot(self, x_inc=0, y_inc=0):\n",
        "        #move robot with given input para\n",
        "        #if no input para then do not move\n",
        "        self.x += x_inc\n",
        "        self.y += y_inc\n",
        "\n",
        "    def get_dist(self, other_robot):\n",
        "        # find distance of current robot to other robot\n",
        "        dist = sqrt((self.x - other_robot.x)**2 + (self.y - other_robot.y)**2)\n",
        "        return dist"
      ],
      "metadata": {
        "id": "2Dg_IWKUf6Wd"
      },
      "execution_count": 8,
      "outputs": []
    },
    {
      "cell_type": "markdown",
      "source": [
        "##Inheritance\n",
        "In Python and any other language that supports OOP, one class can inherit from another class. This means you can base a new class on an existing class; the new class inherits all of the attributes and behavior of the class it is based on.\n",
        "\n",
        "A new class can override any undesirable attributes or behavior of the class it inherits from, and it can add any new attributes or behavior that are appropriate. The original class is called the parent class, and the new class is a child of the parent class. The parent class is also called a superclass, and the child class is also called a subclass."
      ],
      "metadata": {
        "id": "c9mWhhKKgC1o"
      }
    },
    {
      "cell_type": "code",
      "source": [
        "# Without inheritance\n",
        "from math import sqrt\n",
        "\n",
        "class AerialRobot():\n",
        "    # in the air, so can move x, y, z directions\n",
        "\n",
        "    def __init__(self, x=0, y=0, z=0):\n",
        "        # Each robot has an (x,y,z) position\n",
        "        self.x = x\n",
        "        self.y = y\n",
        "        self.z = z\n",
        "\n",
        "    def move_forward(self):\n",
        "        # Increment the y-position of the robot.\n",
        "        self.y += 1\n",
        "\n",
        "    def move_upward(self):\n",
        "        # Raise the altitute\n",
        "        self.z += 1\n",
        "\n",
        "    def move_robot(self, x_inc=0, y_inc=0, z_inc=0):\n",
        "        #move robot with x,y,z inc given\n",
        "        self.x += x_inc\n",
        "        self.y += y_inc\n",
        "        self.z += z_inc\n",
        "\n",
        "    def get_dist(self, other_robot):\n",
        "        # find distance of current robot to other robot\n",
        "        dist = sqrt((self.x - other_robot.x)**2 + (self.y - other_robot.y)**2 + (self.z - other_robot.z)**2)\n",
        "        return dist"
      ],
      "metadata": {
        "id": "X68ZSLLqmFbC"
      },
      "execution_count": 9,
      "outputs": []
    },
    {
      "cell_type": "code",
      "source": [
        "# With inheritance\n",
        "\n",
        "class AerialRobot(Robot):\n",
        "\n",
        "    def __init__(self, x=0, y=0, z=0):\n",
        "        super().__init__(x, y)\n",
        "        self.z = z\n",
        "\n",
        "    def move_upward(self):\n",
        "        # Raise the altitute\n",
        "        self.z += 1\n",
        "\n",
        "    def move_robot(self, x_inc=0, y_inc=0, z_inc=0):\n",
        "        super().move_robot(x_inc, y_inc)\n",
        "        self.z += z_inc\n",
        "\n",
        "    def get_dist(self, other_robot):\n",
        "        dist = sqrt( super().get_dist(other_robot)**2 + (self.z - other_robot.z)**2)\n",
        "        return dist"
      ],
      "metadata": {
        "id": "mWLiUYpwmU5u"
      },
      "execution_count": 11,
      "outputs": []
    },
    {
      "cell_type": "code",
      "source": [
        "from random import randint\n",
        "# Create several ground and aerial robots\n",
        "\n",
        "uavs = [] #unmanned aerial vehicles (UAVs)\n",
        "for x in range(0,3):\n",
        "    x = randint(0,100)\n",
        "    y = randint(1,100)\n",
        "    z = randint(0,10)\n",
        "    uavs.append(AerialRobot(x, y, z))\n",
        "\n",
        "robots = []\n",
        "for x in range(0,3):\n",
        "    x = randint(0,100)\n",
        "    y = randint(1,100)\n",
        "    robots.append(Robot(x, y))"
      ],
      "metadata": {
        "id": "SqT7CEefnUQY"
      },
      "execution_count": 12,
      "outputs": []
    },
    {
      "cell_type": "code",
      "source": [
        "for index, uav in enumerate(uavs):\n",
        "    print(\"UAV %d is at altitude %d m.\" % (index, uav.z))\n",
        "\n",
        "print(\"\\n\")\n",
        "# Show the distance from the first UAV to all other UAVs.\n",
        "first_uav = uavs[0]\n",
        "for index, uav in enumerate(uavs):\n",
        "    distance = first_uav.get_dist(uav)\n",
        "    print(\"The first UAV is %f units away from UAV %d.\" % (distance, index))"
      ],
      "metadata": {
        "colab": {
          "base_uri": "https://localhost:8080/"
        },
        "id": "LlAYCY6VnY2g",
        "outputId": "d0bfeeb7-bd7c-4c7a-9d0f-4e365d49fad3"
      },
      "execution_count": 13,
      "outputs": [
        {
          "output_type": "stream",
          "name": "stdout",
          "text": [
            "UAV 0 is at altitude 10 m.\n",
            "UAV 1 is at altitude 2 m.\n",
            "UAV 2 is at altitude 8 m.\n",
            "\n",
            "\n",
            "The first UAV is 0.000000 units away from UAV 0.\n",
            "The first UAV is 34.322005 units away from UAV 1.\n",
            "The first UAV is 52.009614 units away from UAV 2.\n"
          ]
        }
      ]
    },
    {
      "cell_type": "markdown",
      "source": [
        "## A module of functions"
      ],
      "metadata": {
        "id": "WC4OYL0NcjMb"
      }
    },
    {
      "cell_type": "code",
      "source": [
        "%%writefile multiplying.py\n",
        "\n",
        "def double(x):\n",
        "  return 2*x\n",
        "\n",
        "def triple(x):\n",
        "  return 3*x\n",
        "\n",
        "def quadruple(x):\n",
        "  return 4*x"
      ],
      "metadata": {
        "colab": {
          "base_uri": "https://localhost:8080/"
        },
        "id": "KvcRvbg9cizU",
        "outputId": "605ca6b5-199d-459e-b52d-270a77bf0bbb"
      },
      "execution_count": 6,
      "outputs": [
        {
          "output_type": "stream",
          "name": "stdout",
          "text": [
            "Writing multiplying.py\n"
          ]
        }
      ]
    },
    {
      "cell_type": "code",
      "source": [
        "from multiplying import double, triple, quadruple\n",
        "\n",
        "print(double(5))\n",
        "print(triple(5))\n",
        "print(quadruple(5))"
      ],
      "metadata": {
        "id": "AeyvlUirz7GJ",
        "colab": {
          "base_uri": "https://localhost:8080/"
        },
        "outputId": "e3378927-3f33-48e2-c664-aba0bd1f7b42"
      },
      "execution_count": 7,
      "outputs": [
        {
          "output_type": "stream",
          "name": "stdout",
          "text": [
            "10\n",
            "15\n",
            "20\n"
          ]
        }
      ]
    },
    {
      "cell_type": "markdown",
      "source": [
        "##Python Multiple Inheritance and Method Resolution Order (MRO)"
      ],
      "metadata": {
        "id": "qQ14ow6FqQyB"
      }
    },
    {
      "cell_type": "code",
      "source": [
        "class Mammal():\n",
        "  def __init__(self, name):\n",
        "    print(name, \"Is a mammal\")\n",
        "\n",
        "class canFly(Mammal):\n",
        "  def __init__(self, canFly_name):\n",
        "     print(canFly_name, \"cannot Fly\")\n",
        "     super().__init__(canFly_name)\n",
        "\n",
        "class canSwim(Mammal):\n",
        "  def __init__(self, canSwim_name):\n",
        "    print(canSwim_name, \"cannot swim\")\n",
        "    super().__init__(canSwim_name)\n",
        "\n",
        "class Animal(canFly, canSwim):\n",
        "  def __init__(self, name):\n",
        "    super().__init__(name)\n",
        "\n",
        "Carol = Animal(\"Dog\")"
      ],
      "metadata": {
        "colab": {
          "base_uri": "https://localhost:8080/"
        },
        "id": "etZVEtoqdig1",
        "outputId": "ad7d870c-ff9a-41a2-f92d-0dd9043b0236"
      },
      "execution_count": 15,
      "outputs": [
        {
          "output_type": "stream",
          "name": "stdout",
          "text": [
            "Dog cannot Fly\n",
            "Dog cannot swim\n",
            "Dog Is a mammal\n"
          ]
        }
      ]
    },
    {
      "cell_type": "code",
      "source": [
        "class A:\n",
        "    def __init__(self, a):\n",
        "        self.a = a\n",
        "\n",
        "\n",
        "class GreatB:\n",
        "\n",
        "    def greetings(self):\n",
        "        print('Greetings from Type: ', self.__class__)\n",
        "\n",
        "class B(GreatB):\n",
        "    def __init__(self, b):\n",
        "        self.b = b\n",
        "\n",
        "\n",
        "class C(A,B):\n",
        "    def __init__(self, a, b):\n",
        "        A.__init__(self, a)\n",
        "        B.__init__(self, b)\n",
        "\n",
        "print('MRO: ', C.mro())\n",
        "c = C('A', 'B')\n",
        "print('c.a: ', c.a)\n",
        "print('c.b: ', c.b)\n",
        "\n",
        "c.greetings()\n",
        "super(C, c).greetings()\n",
        "super(B, c).greetings()"
      ],
      "metadata": {
        "colab": {
          "base_uri": "https://localhost:8080/"
        },
        "id": "cNdr-B3arFRm",
        "outputId": "8a1cafac-d97d-4b12-ae55-966dd38f6333"
      },
      "execution_count": 16,
      "outputs": [
        {
          "output_type": "stream",
          "name": "stdout",
          "text": [
            "MRO:  [<class '__main__.C'>, <class '__main__.A'>, <class '__main__.B'>, <class '__main__.GreatB'>, <class 'object'>]\n",
            "c.a:  A\n",
            "c.b:  B\n",
            "Greetings from Type:  <class '__main__.C'>\n",
            "Greetings from Type:  <class '__main__.C'>\n",
            "Greetings from Type:  <class '__main__.C'>\n"
          ]
        }
      ]
    }
  ]
}
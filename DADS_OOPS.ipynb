{
  "nbformat": 4,
  "nbformat_minor": 0,
  "metadata": {
    "colab": {
      "provenance": [],
      "authorship_tag": "ABX9TyOqawMD9y1VBgYVA3Cg+vTx",
      "include_colab_link": true
    },
    "kernelspec": {
      "name": "python3",
      "display_name": "Python 3"
    },
    "language_info": {
      "name": "python"
    }
  },
  "cells": [
    {
      "cell_type": "markdown",
      "metadata": {
        "id": "view-in-github",
        "colab_type": "text"
      },
      "source": [
        "<a href=\"https://colab.research.google.com/github/ksimhadr/learn/blob/master/DADS_OOPS.ipynb\" target=\"_parent\"><img src=\"https://colab.research.google.com/assets/colab-badge.svg\" alt=\"Open In Colab\"/></a>"
      ]
    },
    {
      "cell_type": "markdown",
      "source": [
        "# A Class is a structure that can be used as a blueprint to create objects that have\n",
        "# Prototyped features, attributes that are variables\n",
        "# methods which are functions that can be applied to the object that is created, or rather, an instance of that class"
      ],
      "metadata": {
        "id": "AoJisnhmvk_R"
      }
    },
    {
      "cell_type": "code",
      "source": [
        "class Robot():\n",
        "  # Robot is a class that is used to perform actions in real world environment\n",
        "\n",
        "  def __init__(self):\n",
        "    # Each robot has x,y position on the ground\n",
        "    self.x = 0\n",
        "    self.y = 0\n",
        "\n",
        "  def move_forward(self):\n",
        "    #robot moves in y-position by 1\n",
        "    self.y +=1"
      ],
      "metadata": {
        "id": "n7Qexf8NwFMH"
      },
      "execution_count": 1,
      "outputs": []
    },
    {
      "cell_type": "markdown",
      "source": [
        "\n",
        "*   Code has not created any robot object\n",
        "*   Once you create it, it will be called an object of this class\n",
        "    'Robot'\n",
        "\n"
      ],
      "metadata": {
        "id": "gXIgvW-Cw4tB"
      }
    },
    {
      "cell_type": "code",
      "source": [
        "ground_robot = Robot()\n",
        "print(ground_robot)"
      ],
      "metadata": {
        "colab": {
          "base_uri": "https://localhost:8080/"
        },
        "id": "X4jHr53pxJL5",
        "outputId": "2bfd2bc4-f502-4be5-ec34-b9a62ce97c69"
      },
      "execution_count": 3,
      "outputs": [
        {
          "output_type": "stream",
          "name": "stdout",
          "text": [
            "<__main__.Robot object at 0x79419095bca0>\n"
          ]
        }
      ]
    },
    {
      "cell_type": "code",
      "source": [
        "ground_robot.move_forward()\n",
        "print(\"robot's position ({}, {})\".format(ground_robot.x,ground_robot.y))"
      ],
      "metadata": {
        "colab": {
          "base_uri": "https://localhost:8080/"
        },
        "id": "bcu9-M8gxcG6",
        "outputId": "cb0fab75-7fff-427d-8e98-4311797f4d3c"
      },
      "execution_count": 6,
      "outputs": [
        {
          "output_type": "stream",
          "name": "stdout",
          "text": [
            "robot's position (0, 3)\n"
          ]
        }
      ]
    },
    {
      "cell_type": "code",
      "source": [
        "ground_robot.y = 0\n",
        "ground_robot.move_forward()\n",
        "print(\"robot's position ({},{})\".format(ground_robot.x,ground_robot.y))"
      ],
      "metadata": {
        "colab": {
          "base_uri": "https://localhost:8080/"
        },
        "id": "Go1KyVdQyFHm",
        "outputId": "f83aa96e-7ed2-451f-a4ee-ab10c8ceae34"
      },
      "execution_count": 7,
      "outputs": [
        {
          "output_type": "stream",
          "name": "stdout",
          "text": [
            "robot's position (0,1)\n"
          ]
        }
      ]
    },
    {
      "cell_type": "code",
      "source": [
        "#Create a fleet of robots\n",
        "#why we use lists instead of set, tuples, dicts\n",
        "#tuples are immutable, sets are two robots are identical, they will merge together\n",
        "list_robots = []\n",
        "\n",
        "for x in range(0, 10):\n",
        "  new_robot = Robot()\n",
        "  list_robots.append(new_robot)\n",
        "\n",
        "print(list_robots)"
      ],
      "metadata": {
        "colab": {
          "base_uri": "https://localhost:8080/"
        },
        "id": "pnmEyRWPygdW",
        "outputId": "89f20868-f011-4e8c-c5f7-47a7f1014e30"
      },
      "execution_count": 9,
      "outputs": [
        {
          "output_type": "stream",
          "name": "stdout",
          "text": [
            "[<__main__.Robot object at 0x79419095b3d0>, <__main__.Robot object at 0x794190959450>, <__main__.Robot object at 0x794190958d60>, <__main__.Robot object at 0x79419095b4f0>, <__main__.Robot object at 0x7941909591b0>, <__main__.Robot object at 0x79419095b220>, <__main__.Robot object at 0x79419095aaa0>, <__main__.Robot object at 0x794190958e50>, <__main__.Robot object at 0x7941909599c0>, <__main__.Robot object at 0x79419095bd90>]\n"
          ]
        }
      ]
    },
    {
      "cell_type": "code",
      "execution_count": 12,
      "metadata": {
        "colab": {
          "base_uri": "https://localhost:8080/"
        },
        "id": "buFPfJ4EvcY6",
        "outputId": "a17d3b09-40a7-4013-9e6b-d50349e8ea60"
      },
      "outputs": [
        {
          "output_type": "stream",
          "name": "stdout",
          "text": [
            "robots position (0,0)\n",
            "robots position (0,0)\n",
            "robots position (0,0)\n",
            "robots position (0,0)\n",
            "robots position (0,0)\n",
            "robots position (0,0)\n",
            "robots position (0,0)\n",
            "robots position (0,0)\n",
            "robots position (0,0)\n",
            "robots position (0,0)\n",
            "robot's position (0,0)\n",
            "robot's position (0,0)\n",
            "robot's position (0,1)\n",
            "robot's position (0,0)\n",
            "robot's position (0,0)\n",
            "robot's position (0,0)\n",
            "robot's position (0,0)\n",
            "robot's position (0,0)\n",
            "robot's position (0,0)\n",
            "robot's position (0,0)\n"
          ]
        }
      ],
      "source": [
        "for robot in list_robots:\n",
        "  print(\"robots position ({},{})\".format(robot.x,robot.y)) #all will be initialized with default values\n",
        "\n",
        "list_robots[2].move_forward()\n",
        "for robot in list_robots:\n",
        "  print(\"robot's position ({},{})\".format(robot.x,robot.y))"
      ]
    },
    {
      "cell_type": "code",
      "source": [
        "#List comprehension for the same\n",
        "my_robots = [Robot() for _ in range(0,10)]\n",
        "\n",
        "for robots in my_robots:\n",
        "  print(robots)"
      ],
      "metadata": {
        "colab": {
          "base_uri": "https://localhost:8080/"
        },
        "id": "XArxMdKn0WAI",
        "outputId": "b2853f5b-ad9b-4d0a-e6a6-3c4c40fc1d39"
      },
      "execution_count": 14,
      "outputs": [
        {
          "output_type": "stream",
          "name": "stdout",
          "text": [
            "<__main__.Robot object at 0x794155b0f190>\n",
            "<__main__.Robot object at 0x794155b0e9b0>\n",
            "<__main__.Robot object at 0x794155b0ec80>\n",
            "<__main__.Robot object at 0x794155b0eb90>\n",
            "<__main__.Robot object at 0x794155b0e770>\n",
            "<__main__.Robot object at 0x794155b0ee90>\n",
            "<__main__.Robot object at 0x794155b0e290>\n",
            "<__main__.Robot object at 0x794155b0e0e0>\n",
            "<__main__.Robot object at 0x794155b0e7a0>\n",
            "<__main__.Robot object at 0x794155b0ecb0>\n"
          ]
        }
      ]
    },
    {
      "cell_type": "code",
      "source": [],
      "metadata": {
        "id": "AeyvlUirz7GJ"
      },
      "execution_count": null,
      "outputs": []
    }
  ]
}
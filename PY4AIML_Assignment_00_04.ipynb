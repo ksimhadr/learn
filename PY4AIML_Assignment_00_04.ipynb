{
  "nbformat": 4,
  "nbformat_minor": 0,
  "metadata": {
    "colab": {
      "provenance": [],
      "include_colab_link": true
    },
    "kernelspec": {
      "name": "python3",
      "display_name": "Python 3"
    }
  },
  "cells": [
    {
      "cell_type": "markdown",
      "metadata": {
        "id": "view-in-github",
        "colab_type": "text"
      },
      "source": [
        "<a href=\"https://colab.research.google.com/github/ksimhadr/learn/blob/master/PY4AIML_Assignment_00_04.ipynb\" target=\"_parent\"><img src=\"https://colab.research.google.com/assets/colab-badge.svg\" alt=\"Open In Colab\"/></a>"
      ]
    },
    {
      "cell_type": "markdown",
      "metadata": {
        "id": "Na0j6cv7D83_"
      },
      "source": [
        "# This is Assignment 00-04 workbook"
      ]
    },
    {
      "cell_type": "markdown",
      "source": [
        "##Assignment 00-04\n",
        "\n",
        "<p>If we list all the natural numbers below $10$ that are multiples of $3$ or $5$, we get $3, 5, 6$ and $9$. The sum of these multiples is $23$.</p>\n",
        "<p>Find the sum of all the multiples of $3$ or $5$ below $1000$.</p>\n",
        "\n",
        "\n",
        "\n",
        "\n",
        "\n"
      ],
      "metadata": {
        "id": "Q6oVm2RsRnqb"
      }
    },
    {
      "cell_type": "code",
      "source": [
        "def euler(limit: int) -> int:\n",
        "  # Write your code here\n",
        "  sum = 0\n",
        "  for i in range(limit):\n",
        "    if i%3 == 0 or i%5 == 0:\n",
        "      sum += i\n",
        "  return sum\n",
        "\n",
        "print(euler(10))"
      ],
      "metadata": {
        "id": "j9Mz3HcxRmZX",
        "outputId": "2f31aaa3-4231-45cf-84d7-17643341ce1e",
        "colab": {
          "base_uri": "https://localhost:8080/"
        }
      },
      "execution_count": 1,
      "outputs": [
        {
          "output_type": "stream",
          "name": "stdout",
          "text": [
            "23\n"
          ]
        }
      ]
    },
    {
      "cell_type": "code",
      "source": [],
      "metadata": {
        "id": "NgWxgd7dNHXx"
      },
      "execution_count": null,
      "outputs": []
    }
  ]
}
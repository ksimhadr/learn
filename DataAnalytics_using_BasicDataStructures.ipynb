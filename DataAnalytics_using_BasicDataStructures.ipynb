{
  "nbformat": 4,
  "nbformat_minor": 0,
  "metadata": {
    "colab": {
      "provenance": [],
      "authorship_tag": "ABX9TyMUPImf6XjRwYyEln/HjLSl",
      "include_colab_link": true
    },
    "kernelspec": {
      "name": "python3",
      "display_name": "Python 3"
    },
    "language_info": {
      "name": "python"
    }
  },
  "cells": [
    {
      "cell_type": "markdown",
      "metadata": {
        "id": "view-in-github",
        "colab_type": "text"
      },
      "source": [
        "<a href=\"https://colab.research.google.com/github/ksimhadr/learn/blob/master/DataAnalytics_using_BasicDataStructures.ipynb\" target=\"_parent\"><img src=\"https://colab.research.google.com/assets/colab-badge.svg\" alt=\"Open In Colab\"/></a>"
      ]
    },
    {
      "cell_type": "markdown",
      "source": [
        "Data Analytics using basic Data Structures\n",
        "\n",
        "\n",
        "*   Data\n",
        "    * Load the Data in a variable\n",
        "    * process or manipulate it\n",
        "*   Visualization\n",
        "    * guess how the data looks like\n",
        "    * adjust/select your data structure\n",
        "\n"
      ],
      "metadata": {
        "id": "4KPe_C_2tR6Z"
      }
    },
    {
      "cell_type": "code",
      "execution_count": 1,
      "metadata": {
        "id": "Hb7fixHGtLGI"
      },
      "outputs": [],
      "source": [
        "#Numpy Numerical Python\n",
        "import numpy as np\n",
        "array = np.array([1,2,4,5,6])"
      ]
    },
    {
      "cell_type": "code",
      "source": [
        "print(\"shape: \", array.shape, \"dtype: \", array.dtype, \"size: \", array.size)"
      ],
      "metadata": {
        "colab": {
          "base_uri": "https://localhost:8080/"
        },
        "id": "fE03xAV_umPo",
        "outputId": "96d0ff45-381c-4d53-ffc5-2d2d1446dd26"
      },
      "execution_count": 2,
      "outputs": [
        {
          "output_type": "stream",
          "name": "stdout",
          "text": [
            "shape:  (5,) dtype:  int64 size:  5\n"
          ]
        }
      ]
    },
    {
      "cell_type": "code",
      "source": [
        "print(np.arange(6))"
      ],
      "metadata": {
        "colab": {
          "base_uri": "https://localhost:8080/"
        },
        "id": "0qE5YkFcu3pv",
        "outputId": "3e82bd33-919c-4af9-d12b-d312a6890a28"
      },
      "execution_count": 4,
      "outputs": [
        {
          "output_type": "stream",
          "name": "stdout",
          "text": [
            "[0 1 2 3 4 5]\n"
          ]
        }
      ]
    },
    {
      "cell_type": "code",
      "source": [
        "X = np.arange(100).reshape(10,10)"
      ],
      "metadata": {
        "id": "6OMH6KtyvBol"
      },
      "execution_count": 5,
      "outputs": []
    },
    {
      "cell_type": "code",
      "source": [
        "X"
      ],
      "metadata": {
        "colab": {
          "base_uri": "https://localhost:8080/"
        },
        "id": "oFtP3p0rvHMg",
        "outputId": "84d5f986-a16d-46da-d819-274fed1ead9e"
      },
      "execution_count": 6,
      "outputs": [
        {
          "output_type": "execute_result",
          "data": {
            "text/plain": [
              "array([[ 0,  1,  2,  3,  4,  5,  6,  7,  8,  9],\n",
              "       [10, 11, 12, 13, 14, 15, 16, 17, 18, 19],\n",
              "       [20, 21, 22, 23, 24, 25, 26, 27, 28, 29],\n",
              "       [30, 31, 32, 33, 34, 35, 36, 37, 38, 39],\n",
              "       [40, 41, 42, 43, 44, 45, 46, 47, 48, 49],\n",
              "       [50, 51, 52, 53, 54, 55, 56, 57, 58, 59],\n",
              "       [60, 61, 62, 63, 64, 65, 66, 67, 68, 69],\n",
              "       [70, 71, 72, 73, 74, 75, 76, 77, 78, 79],\n",
              "       [80, 81, 82, 83, 84, 85, 86, 87, 88, 89],\n",
              "       [90, 91, 92, 93, 94, 95, 96, 97, 98, 99]])"
            ]
          },
          "metadata": {},
          "execution_count": 6
        }
      ]
    },
    {
      "cell_type": "code",
      "source": [
        "#matplotlib\n",
        "import matplotlib.pyplot as plt"
      ],
      "metadata": {
        "id": "iy22ezmjvSNS"
      },
      "execution_count": 8,
      "outputs": []
    },
    {
      "cell_type": "code",
      "source": [
        "plt.plot(np.arange(6))"
      ],
      "metadata": {
        "colab": {
          "base_uri": "https://localhost:8080/",
          "height": 447
        },
        "id": "tNDLSaKuvZzw",
        "outputId": "5d11ab1e-63aa-40b8-f60d-ac76f49e740c"
      },
      "execution_count": 9,
      "outputs": [
        {
          "output_type": "execute_result",
          "data": {
            "text/plain": [
              "[<matplotlib.lines.Line2D at 0x7d56b2a031c0>]"
            ]
          },
          "metadata": {},
          "execution_count": 9
        },
        {
          "output_type": "display_data",
          "data": {
            "text/plain": [
              "<Figure size 640x480 with 1 Axes>"
            ],
            "image/png": "[encoded data removed]"
          },
          "metadata": {}
        }
      ]
    },
    {
      "cell_type": "code",
      "source": [
        "print(array)"
      ],
      "metadata": {
        "colab": {
          "base_uri": "https://localhost:8080/"
        },
        "id": "-QwEJJKwxF9M",
        "outputId": "e5a99e50-aa6c-437e-f953-1963905ecc5b"
      },
      "execution_count": 10,
      "outputs": [
        {
          "output_type": "stream",
          "name": "stdout",
          "text": [
            "[1 2 4 5 6]\n"
          ]
        }
      ]
    },
    {
      "cell_type": "code",
      "source": [
        "type(array)"
      ],
      "metadata": {
        "colab": {
          "base_uri": "https://localhost:8080/"
        },
        "id": "ixCgl-bSxIsQ",
        "outputId": "570f5e61-7323-4aea-a693-bd40e4baef7b"
      },
      "execution_count": 11,
      "outputs": [
        {
          "output_type": "execute_result",
          "data": {
            "text/plain": [
              "numpy.ndarray"
            ]
          },
          "metadata": {},
          "execution_count": 11
        }
      ]
    },
    {
      "cell_type": "code",
      "source": [
        "np.append(array, [3,2])"
      ],
      "metadata": {
        "colab": {
          "base_uri": "https://localhost:8080/"
        },
        "id": "T0mRtW1ExLeO",
        "outputId": "dbcc80f4-6116-4da6-b363-b51471056589"
      },
      "execution_count": 12,
      "outputs": [
        {
          "output_type": "execute_result",
          "data": {
            "text/plain": [
              "array([1, 2, 4, 5, 6, 3, 2])"
            ]
          },
          "metadata": {},
          "execution_count": 12
        }
      ]
    },
    {
      "cell_type": "code",
      "source": [
        "np.insert(array, 3, 0)"
      ],
      "metadata": {
        "colab": {
          "base_uri": "https://localhost:8080/"
        },
        "id": "GoaT-_2wxR2h",
        "outputId": "1fbcb6d2-05ff-4ba5-b6f7-c352e5c48f54"
      },
      "execution_count": 13,
      "outputs": [
        {
          "output_type": "execute_result",
          "data": {
            "text/plain": [
              "array([1, 2, 4, 0, 5, 6])"
            ]
          },
          "metadata": {},
          "execution_count": 13
        }
      ]
    },
    {
      "cell_type": "code",
      "source": [
        "np.delete(array, 4, axis=0)"
      ],
      "metadata": {
        "colab": {
          "base_uri": "https://localhost:8080/"
        },
        "id": "FA18wPsLxWnl",
        "outputId": "4da174fe-8de9-4794-f483-e0729140e0e5"
      },
      "execution_count": 14,
      "outputs": [
        {
          "output_type": "execute_result",
          "data": {
            "text/plain": [
              "array([1, 2, 4, 5])"
            ]
          },
          "metadata": {},
          "execution_count": 14
        }
      ]
    },
    {
      "cell_type": "code",
      "source": [
        "print(array)\n",
        "print(np.mean(array))\n",
        "print(np.sum(array))\n",
        "print(np.min(array))\n",
        "print(np.var(array))\n",
        "np.median(array)"
      ],
      "metadata": {
        "colab": {
          "base_uri": "https://localhost:8080/"
        },
        "id": "JeOwoXYbxilL",
        "outputId": "c89176f1-35ee-41dd-8f55-cbe6890bbd8e"
      },
      "execution_count": 17,
      "outputs": [
        {
          "output_type": "stream",
          "name": "stdout",
          "text": [
            "[1 2 4 5 6]\n",
            "3.6\n",
            "18\n",
            "1\n",
            "3.44\n"
          ]
        },
        {
          "output_type": "execute_result",
          "data": {
            "text/plain": [
              "4.0"
            ]
          },
          "metadata": {},
          "execution_count": 17
        }
      ]
    },
    {
      "cell_type": "code",
      "source": [
        "pwd"
      ],
      "metadata": {
        "colab": {
          "base_uri": "https://localhost:8080/",
          "height": 35
        },
        "id": "ewWodlHMzbWM",
        "outputId": "dbd29ef8-d171-4f37-cba7-78c246fc2a51"
      },
      "execution_count": 18,
      "outputs": [
        {
          "output_type": "execute_result",
          "data": {
            "text/plain": [
              "'/content'"
            ],
            "application/vnd.google.colaboratory.intrinsic+json": {
              "type": "string"
            }
          },
          "metadata": {},
          "execution_count": 18
        }
      ]
    },
    {
      "cell_type": "code",
      "source": [
        "ls"
      ],
      "metadata": {
        "colab": {
          "base_uri": "https://localhost:8080/"
        },
        "id": "GWDt9DGJzdS_",
        "outputId": "a0d905ba-2997-4fee-e0e7-e4990bd12faa"
      },
      "execution_count": 21,
      "outputs": [
        {
          "output_type": "stream",
          "name": "stdout",
          "text": [
            "2-AAPL_stock_2019.csv  california_housing_test.csv   mnist_test.csv         \u001b[0m\u001b[01;32mREADME.md\u001b[0m*\n",
            "\u001b[01;32manscombe.json\u001b[0m*         california_housing_train.csv  mnist_train_small.csv\n"
          ]
        }
      ]
    },
    {
      "cell_type": "code",
      "source": [
        "cd sample_data/"
      ],
      "metadata": {
        "colab": {
          "base_uri": "https://localhost:8080/"
        },
        "id": "r9mvrflfzfs2",
        "outputId": "bff703b2-d2dd-4736-91ec-b214d7a34698"
      },
      "execution_count": 20,
      "outputs": [
        {
          "output_type": "stream",
          "name": "stdout",
          "text": [
            "/content/sample_data\n"
          ]
        }
      ]
    },
    {
      "cell_type": "code",
      "source": [
        "#Read the file in memory\n",
        "\n",
        "stockprice = []\n",
        "with open('2-AAPL_stock_2019.csv', 'r') as input_file:\n",
        "  all_lines_from_file = input_file.readlines()\n",
        "\n",
        "  for eachline in all_lines_from_file:\n",
        "    for value in eachline.rsplit(',')[1:]:\n",
        "        cleanvalue = value.replace(\"\\n\", \"\")\n",
        "        stockprice.append(cleanvalue)\n"
      ],
      "metadata": {
        "id": "6Ail6qDUzm7N"
      },
      "execution_count": 23,
      "outputs": []
    },
    {
      "cell_type": "code",
      "source": [
        "print(stockprice)"
      ],
      "metadata": {
        "colab": {
          "base_uri": "https://localhost:8080/"
        },
        "id": "sqpQuo1p1PRE",
        "outputId": "1dee98f8-5230-4094-8582-0b802efa20ca"
      },
      "execution_count": 24,
      "outputs": [
        {
          "output_type": "stream",
          "name": "stdout",
          "text": [
            "['Close', '157.919998', '142.190002', '148.259995', '147.929993', '150.75', '153.309998', '153.800003', '152.289993', '150', '153.070007', '154.940002', '155.860001', '156.820007', '153.300003', '153.919998', '152.699997', '157.759995', '156.300003', '154.679993', '165.25', '166.440002', '166.520004', '171.25', '174.179993', '174.240005', '170.940002', '170.410004', '169.429993', '170.889999', '170.179993', '170.800003', '170.419998', '170.929993', '172.029999', '171.059998', '172.970001', '174.229996', '174.330002', '174.869995', '173.149994', '174.970001', '175.850006', '175.529999', '174.520004', '172.5', '172.910004', '178.899994', '180.910004', '181.710007', '183.729996', '186.119995', '188.020004', '186.529999', '188.160004', '195.089996', '191.050003', '188.740005', '186.789993', '188.470001', '188.720001', '189.949997', '191.240005', '194.020004', '195.350006', '195.690002', '197', '200.100006', '199.5', '200.619995', '198.949997', '198.869995', '199.229996', '199.25', '203.130005', '203.860001', '204.529999', '207.479996', '207.160004', '205.279999', '204.300003', '204.610001', '200.669998', '210.520004', '209.149994', '211.75', '208.479996', '202.860001', '202.899994', '200.720001', '197.179993', '185.720001', '188.660004', '190.919998', '190.080002', '189', '183.089996', '186.600006', '182.779999', '179.660004', '178.970001', '178.229996', '177.380005', '178.300003', '175.070007', '173.300003', '179.639999', '182.539993', '185.220001', '190.149994', '192.580002', '194.809998', '194.190002', '194.149994', '192.740005', '193.889999', '198.449997', '197.869995', '199.460007', '198.779999', '198.580002', '195.570007', '199.800003', '199.740005', '197.919998', '201.550003', '202.729996', '204.410004', '204.229996', '200.020004', '201.240005', '203.229996', '201.75', '203.300003', '205.210007', '204.5', '203.350006', '205.660004', '202.589996', '207.220001', '208.839996', '208.669998', '207.020004', '207.740005', '209.679993', '208.779999', '213.039993', '208.429993', '204.020004', '193.339996', '197', '199.039993', '203.429993', '200.990005', '200.479996', '208.970001', '202.75', '201.740005', '206.5', '210.350006', '210.360001', '212.639999', '212.460007', '202.639999', '206.490005', '204.160004', '205.529999', '209.009995', '208.740005', '205.699997', '209.190002', '213.279999', '213.259995', '214.169998', '216.699997', '223.589996', '223.089996', '218.75', '219.899994', '220.699997', '222.770004', '220.960007', '217.729996', '218.720001', '217.679993', '221.029999', '219.889999', '218.820007', '223.970001', '224.589996', '218.960007', '220.820007', '227.009995', '227.059998', '224.399994', '227.029999', '230.089996', '236.210007', '235.869995', '235.320007', '234.369995', '235.279999', '236.410004', '240.509995', '239.960007', '243.179993', '243.580002', '246.580002', '249.050003', '243.289993', '243.259995', '248.759995', '255.820007', '257.5', '257.130005', '257.23999', '259.429993', '260.140015', '262.200012', '261.959991', '264.470001', '262.640015', '265.76001', '267.100006', '266.290009', '263.190002', '262.01001', '261.779999', '266.369995', '264.290009']\n"
          ]
        }
      ]
    },
    {
      "cell_type": "code",
      "source": [
        "stockprice = np.delete(stockprice,0)"
      ],
      "metadata": {
        "id": "8hf5kdHe1bMg"
      },
      "execution_count": 25,
      "outputs": []
    },
    {
      "cell_type": "code",
      "source": [
        "stockprice.size"
      ],
      "metadata": {
        "colab": {
          "base_uri": "https://localhost:8080/"
        },
        "id": "O14G7_hB1kCI",
        "outputId": "c75c23df-8bea-47d9-f3d0-37bae52ba33e"
      },
      "execution_count": 26,
      "outputs": [
        {
          "output_type": "execute_result",
          "data": {
            "text/plain": [
              "229"
            ]
          },
          "metadata": {},
          "execution_count": 26
        }
      ]
    },
    {
      "cell_type": "code",
      "source": [
        "print(stockprice[:5])"
      ],
      "metadata": {
        "colab": {
          "base_uri": "https://localhost:8080/"
        },
        "id": "iCjuwzS81qk1",
        "outputId": "e19dd019-7e50-4bcd-bfb5-027905b2c668"
      },
      "execution_count": 27,
      "outputs": [
        {
          "output_type": "stream",
          "name": "stdout",
          "text": [
            "['157.919998' '142.190002' '148.259995' '147.929993' '150.75']\n"
          ]
        }
      ]
    },
    {
      "cell_type": "code",
      "source": [
        "newstockprice = stockprice.astype(float)"
      ],
      "metadata": {
        "id": "sf9S09041vAk"
      },
      "execution_count": 28,
      "outputs": []
    },
    {
      "cell_type": "code",
      "source": [
        "print(newstockprice[:5])"
      ],
      "metadata": {
        "colab": {
          "base_uri": "https://localhost:8080/"
        },
        "id": "Y6WXtTWu10cY",
        "outputId": "2a9a5d37-7958-41a6-d9ae-a6d2efff57dd"
      },
      "execution_count": 29,
      "outputs": [
        {
          "output_type": "stream",
          "name": "stdout",
          "text": [
            "[157.919998 142.190002 148.259995 147.929993 150.75    ]\n"
          ]
        }
      ]
    },
    {
      "cell_type": "code",
      "source": [
        "print(np.mean(newstockprice))\n",
        "print(np.median(newstockprice))\n",
        "print(np.min(newstockprice))\n",
        "print(np.max(newstockprice))\n",
        "print(np.var(newstockprice))"
      ],
      "metadata": {
        "colab": {
          "base_uri": "https://localhost:8080/"
        },
        "id": "rI9Gkh7D15TZ",
        "outputId": "7502fb89-1aac-4c05-bd24-461ffb843495"
      },
      "execution_count": 32,
      "outputs": [
        {
          "output_type": "stream",
          "name": "stdout",
          "text": [
            "201.4775984323144\n",
            "200.720001\n",
            "142.190002\n",
            "267.100006\n",
            "794.4065846588704\n"
          ]
        }
      ]
    },
    {
      "cell_type": "code",
      "source": [
        "sortedprices = np.sort(newstockprice)\n",
        "print(sortedprices[:10])"
      ],
      "metadata": {
        "colab": {
          "base_uri": "https://localhost:8080/"
        },
        "id": "uCQEfPnM2Meg",
        "outputId": "db263292-fa75-4070-fe1a-3a3612a9d3df"
      },
      "execution_count": 35,
      "outputs": [
        {
          "output_type": "stream",
          "name": "stdout",
          "text": [
            "[142.190002 147.929993 148.259995 150.       150.75     152.289993\n",
            " 152.699997 153.070007 153.300003 153.309998]\n"
          ]
        }
      ]
    },
    {
      "cell_type": "code",
      "source": [
        "plt.plot(newstockprice)"
      ],
      "metadata": {
        "colab": {
          "base_uri": "https://localhost:8080/",
          "height": 447
        },
        "id": "vAX1ZXER2aGz",
        "outputId": "33ac0235-c8d6-4d9f-d5d5-3376fee13f80"
      },
      "execution_count": 36,
      "outputs": [
        {
          "output_type": "execute_result",
          "data": {
            "text/plain": [
              "[<matplotlib.lines.Line2D at 0x7d567dc00dc0>]"
            ]
          },
          "metadata": {},
          "execution_count": 36
        },
        {
          "output_type": "display_data",
          "data": {
            "text/plain": [
              "<Figure size 640x480 with 1 Axes>"
            ],
            "image/png": "[encoded data removed]"
          },
          "metadata": {}
        }
      ]
    },
    {
      "cell_type": "code",
      "source": [
        "plt.plot(sortedprices)"
      ],
      "metadata": {
        "colab": {
          "base_uri": "https://localhost:8080/",
          "height": 447
        },
        "id": "IzSq6lrL2mf4",
        "outputId": "afa0cb5f-acd9-4a3b-a238-e469f645fb61"
      },
      "execution_count": 37,
      "outputs": [
        {
          "output_type": "execute_result",
          "data": {
            "text/plain": [
              "[<matplotlib.lines.Line2D at 0x7d567d47f4c0>]"
            ]
          },
          "metadata": {},
          "execution_count": 37
        },
        {
          "output_type": "display_data",
          "data": {
            "text/plain": [
              "<Figure size 640x480 with 1 Axes>"
            ],
            "image/png": "[encoded data removed]"
          },
          "metadata": {}
        }
      ]
    }
  ]
}
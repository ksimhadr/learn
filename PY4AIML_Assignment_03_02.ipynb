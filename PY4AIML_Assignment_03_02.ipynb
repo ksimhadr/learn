{
  "nbformat": 4,
  "nbformat_minor": 0,
  "metadata": {
    "colab": {
      "provenance": [],
      "authorship_tag": "ABX9TyN5dcdhfdQJ354g+UtK5LvR",
      "include_colab_link": true
    },
    "kernelspec": {
      "name": "python3",
      "display_name": "Python 3"
    },
    "language_info": {
      "name": "python"
    }
  },
  "cells": [
    {
      "cell_type": "markdown",
      "metadata": {
        "id": "view-in-github",
        "colab_type": "text"
      },
      "source": [
        "<a href=\"https://colab.research.google.com/github/ksimhadr/learn/blob/master/PY4AIML_Assignment_03_02.ipynb\" target=\"_parent\"><img src=\"https://colab.research.google.com/assets/colab-badge.svg\" alt=\"Open In Colab\"/></a>"
      ]
    },
    {
      "cell_type": "markdown",
      "source": [
        "##Factorial of a number\n"
      ],
      "metadata": {
        "id": "dp8dzd4ghLii"
      }
    },
    {
      "cell_type": "code",
      "execution_count": null,
      "metadata": {
        "colab": {
          "base_uri": "https://localhost:8080/"
        },
        "id": "kBBBj2y3hExF",
        "outputId": "68cdff1a-ba33-441a-ca10-67ebfb81838c"
      },
      "outputs": [
        {
          "output_type": "execute_result",
          "data": {
            "text/plain": [
              "120"
            ]
          },
          "metadata": {},
          "execution_count": 2
        }
      ],
      "source": [
        "def fact_of_num(a: int) -> int:\n",
        "    result = 1\n",
        "    if a < 0:\n",
        "        print(\"Factorial does not exist for negative numbers\")\n",
        "    elif a == 0:\n",
        "        print(\"The factorial of 0 is 1\")\n",
        "    else:\n",
        "        for i in range(1, a + 1):\n",
        "            result *= i\n",
        "            #print(result)\n",
        "    return result\n",
        "\n",
        "fact_of_num(5)"
      ]
    },
    {
      "cell_type": "code",
      "source": [
        "for i in range(3,10,3):\n",
        "  print(i)"
      ],
      "metadata": {
        "colab": {
          "base_uri": "https://localhost:8080/"
        },
        "id": "L8YNG3Yfj_82",
        "outputId": "fb700c30-2bd8-438a-a216-1f43b93a2517"
      },
      "execution_count": null,
      "outputs": [
        {
          "output_type": "stream",
          "name": "stdout",
          "text": [
            "3\n",
            "6\n",
            "9\n"
          ]
        }
      ]
    },
    {
      "cell_type": "code",
      "source": [
        "#from ast import Index\n",
        "a_list = [1,2,3,4,25]\n",
        "for i in a_list:\n",
        "  print(\"values are: {} and idx: \".format(i), a_list.index(i))"
      ],
      "metadata": {
        "colab": {
          "base_uri": "https://localhost:8080/"
        },
        "id": "ejUxkTdakFjh",
        "outputId": "49fc3a77-239a-43e3-cec5-69ad7f457366"
      },
      "execution_count": 7,
      "outputs": [
        {
          "output_type": "stream",
          "name": "stdout",
          "text": [
            "values are: 1 and idx:  0\n",
            "values are: 2 and idx:  1\n",
            "values are: 3 and idx:  2\n",
            "values are: 4 and idx:  3\n",
            "values are: 25 and idx:  4\n"
          ]
        }
      ]
    },
    {
      "cell_type": "markdown",
      "source": [
        "##find the frequency of each element in a list and store it in a dictionary."
      ],
      "metadata": {
        "id": "yGEtM_flyBKU"
      }
    },
    {
      "cell_type": "code",
      "source": [
        "a_list = [1,2,3,4,25,1,1,1]\n",
        "freq = {}\n",
        "for i in a_list:\n",
        "  if i in freq:\n",
        "    freq[i] += 1\n",
        "  else:\n",
        "    freq[i] = 1\n",
        "print(freq)"
      ],
      "metadata": {
        "colab": {
          "base_uri": "https://localhost:8080/"
        },
        "id": "-75pDumos86H",
        "outputId": "83a9d629-2a37-4b5b-b44a-9f9248e79f05"
      },
      "execution_count": 12,
      "outputs": [
        {
          "output_type": "stream",
          "name": "stdout",
          "text": [
            "{1: 4, 2: 1, 3: 1, 4: 1, 25: 1}\n"
          ]
        }
      ]
    },
    {
      "cell_type": "markdown",
      "source": [
        "##a program to insert a new element at a specific position in the list."
      ],
      "metadata": {
        "id": "wuBL772kx9pK"
      }
    },
    {
      "cell_type": "code",
      "source": [
        "a_list = [1,2,3,4,5]\n",
        "a_list.insert(2,10)\n",
        "print(a_list)"
      ],
      "metadata": {
        "colab": {
          "base_uri": "https://localhost:8080/"
        },
        "id": "eRzYjUDEx_Zp",
        "outputId": "af3fb3ec-55b0-4e3d-876d-011a5a69a813"
      },
      "execution_count": 13,
      "outputs": [
        {
          "output_type": "stream",
          "name": "stdout",
          "text": [
            "[1, 2, 10, 3, 4, 5]\n"
          ]
        }
      ]
    },
    {
      "cell_type": "markdown",
      "source": [
        "##remove duplicates from a list."
      ],
      "metadata": {
        "id": "7S4wCp_1zYV3"
      }
    },
    {
      "cell_type": "code",
      "source": [
        "a_list = [1,\"apple\", \"apple\", \"acncksd\", 12.1, 11, 1]\n",
        "#a_list = list(set(a_list))\n",
        "#print(a_list)\n",
        "for i in a_list:\n",
        "  if a_list.count(i) > 1:\n",
        "    a_list.remove(i)\n",
        "print(a_list)"
      ],
      "metadata": {
        "colab": {
          "base_uri": "https://localhost:8080/"
        },
        "id": "9Vh4DySGzS7t",
        "outputId": "153cd803-5ea0-4f00-811e-66c7ce27f867"
      },
      "execution_count": 29,
      "outputs": [
        {
          "output_type": "stream",
          "name": "stdout",
          "text": [
            "['apple', 'acncksd', 12.1, 11, 1]\n"
          ]
        }
      ]
    },
    {
      "cell_type": "markdown",
      "source": [
        "## Remove empty strings from the list of strings without using any loops"
      ],
      "metadata": {
        "id": "WTyHH_cPz7Xf"
      }
    },
    {
      "cell_type": "code",
      "source": [
        "a_list = [\"apple\", \"\", \"banana\", \"\", \"cherry\", \"\"]\n",
        "#a_list = [x for x in a_list if x]\n",
        "a_list = list(filter(None, a_list))\n",
        "print(a_list)"
      ],
      "metadata": {
        "colab": {
          "base_uri": "https://localhost:8080/"
        },
        "id": "zmlRSpKYzQRT",
        "outputId": "8acf43d5-c98b-496c-cb21-02f7dae56417"
      },
      "execution_count": 17,
      "outputs": [
        {
          "output_type": "stream",
          "name": "stdout",
          "text": [
            "['apple', 'banana', 'cherry']\n"
          ]
        }
      ]
    },
    {
      "cell_type": "markdown",
      "source": [
        "##to find the common elements between two lists"
      ],
      "metadata": {
        "id": "AAx89T4t0bVq"
      }
    },
    {
      "cell_type": "code",
      "source": [
        "a_list = [1, 23, 4, 111.0, \"lcas\", 134]\n",
        "b_list = [1, 2, 3, 4, 5, 6, \"lcas\", 111.0]\n",
        "c_list = []\n",
        "for i in a_list:\n",
        "  if i in b_list:\n",
        "    c_list.append(i)\n",
        "    #print(i)\n",
        "print(c_list)"
      ],
      "metadata": {
        "colab": {
          "base_uri": "https://localhost:8080/"
        },
        "id": "YE8bkcNM0NmR",
        "outputId": "d1aaad3a-4686-42b2-daa6-2f10fb750a93"
      },
      "execution_count": 20,
      "outputs": [
        {
          "output_type": "stream",
          "name": "stdout",
          "text": [
            "1\n",
            "4\n",
            "111.0\n",
            "lcas\n",
            "[1, 4, 111.0, 'lcas']\n"
          ]
        }
      ]
    },
    {
      "cell_type": "markdown",
      "source": [
        "##to find the common elements between two lists without using loops."
      ],
      "metadata": {
        "id": "zGEeWZRb6vgh"
      }
    },
    {
      "cell_type": "code",
      "source": [
        "#from re import A\n",
        "a_list = [1, 23, 4, 111.0, \"lcas\", 134]\n",
        "b_list = [1, 2, 3, 4, 5, 6, \"lcas\", 111.0]\n",
        "#c = set(a_list) & set(b_list)\n",
        "#print(c)\n",
        "c_list = list(set(a_list).intersection(b_list))\n",
        "print(c_list)"
      ],
      "metadata": {
        "colab": {
          "base_uri": "https://localhost:8080/"
        },
        "id": "teauNW5q05Qs",
        "outputId": "c4956b14-d91e-4aa3-f572-be8c0fa18da0"
      },
      "execution_count": 33,
      "outputs": [
        {
          "output_type": "stream",
          "name": "stdout",
          "text": [
            "['lcas', 1, 4, 111.0]\n"
          ]
        }
      ]
    },
    {
      "cell_type": "markdown",
      "source": [
        "##find the second smallest element in a list"
      ],
      "metadata": {
        "id": "ogZ7X6Gw-ufr"
      }
    },
    {
      "cell_type": "code",
      "source": [
        "a_list = [1, 23, 4, 111.0, 0, 12, 134]\n",
        "a_list.sort()\n",
        "print(a_list[1])"
      ],
      "metadata": {
        "colab": {
          "base_uri": "https://localhost:8080/"
        },
        "id": "NvjMwXab63UL",
        "outputId": "af7317ff-6864-4857-90f5-b0a9ef83f18a"
      },
      "execution_count": 35,
      "outputs": [
        {
          "output_type": "stream",
          "name": "stdout",
          "text": [
            "1\n"
          ]
        }
      ]
    },
    {
      "cell_type": "markdown",
      "source": [
        "##check a list is empty"
      ],
      "metadata": {
        "id": "ss8oVSbG--kw"
      }
    },
    {
      "cell_type": "code",
      "source": [
        "a_list = [\"\", 1, 2.1,\"apple\"]\n",
        "a_list = []\n",
        "if not a_list:\n",
        "  print(\"list is empty\")\n",
        "else:\n",
        "  print(\"list is not empty\")"
      ],
      "metadata": {
        "colab": {
          "base_uri": "https://localhost:8080/"
        },
        "id": "EAwCcuS7-y5M",
        "outputId": "54c06a8e-76b8-4639-97ed-80680a34a820"
      },
      "execution_count": 38,
      "outputs": [
        {
          "output_type": "stream",
          "name": "stdout",
          "text": [
            "list is empty\n"
          ]
        }
      ]
    },
    {
      "cell_type": "markdown",
      "source": [
        "##rotate a list to the right by n positions"
      ],
      "metadata": {
        "id": "IYcYLf3kCPPD"
      }
    },
    {
      "cell_type": "code",
      "source": [],
      "metadata": {
        "id": "F-wqTqME_OUD"
      },
      "execution_count": null,
      "outputs": []
    }
  ]
}
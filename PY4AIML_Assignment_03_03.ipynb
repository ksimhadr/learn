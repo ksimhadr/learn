{
  "nbformat": 4,
  "nbformat_minor": 0,
  "metadata": {
    "colab": {
      "provenance": [],
      "authorship_tag": "ABX9TyPPvIiLjIrrhV+mrg0McDlW",
      "include_colab_link": true
    },
    "kernelspec": {
      "name": "python3",
      "display_name": "Python 3"
    },
    "language_info": {
      "name": "python"
    }
  },
  "cells": [
    {
      "cell_type": "markdown",
      "metadata": {
        "id": "view-in-github",
        "colab_type": "text"
      },
      "source": [
        "<a href=\"https://colab.research.google.com/github/ksimhadr/learn/blob/master/PY4AIML_Assignment_03_03.ipynb\" target=\"_parent\"><img src=\"https://colab.research.google.com/assets/colab-badge.svg\" alt=\"Open In Colab\"/></a>"
      ]
    },
    {
      "cell_type": "markdown",
      "source": [
        "##Exercises on NumPy\n"
      ],
      "metadata": {
        "id": "4QBE-qvoTUiD"
      }
    },
    {
      "cell_type": "markdown",
      "source": [
        "##Numerical python for solving science and engineering problems"
      ],
      "metadata": {
        "id": "yI3Al93TBxfZ"
      }
    },
    {
      "cell_type": "code",
      "execution_count": null,
      "metadata": {
        "colab": {
          "base_uri": "https://localhost:8080/"
        },
        "id": "4-XVt_LbTPSV",
        "outputId": "ae8ac569-12c3-4e5b-cd7f-16f75c03dfb8"
      },
      "outputs": [
        {
          "output_type": "stream",
          "name": "stdout",
          "text": [
            "(3,)\n",
            "(2, 3)\n",
            "int64\n",
            "float64\n"
          ]
        }
      ],
      "source": [
        "import numpy as np\n",
        "a = np.array([1, 2, 3])\n",
        "b = np.array([[1.2, 21, 31], [4, 5, 6]])\n",
        "print(a.shape)\n",
        "print(b.shape)\n",
        "print(a.dtype)\n",
        "print(b.dtype)"
      ]
    },
    {
      "cell_type": "markdown",
      "source": [
        "##NumPy Slicing [startindex:endindex:stepsize]"
      ],
      "metadata": {
        "id": "IRnA92oqVjM2"
      }
    },
    {
      "cell_type": "code",
      "source": [
        "a = np.array(np.arange(12).reshape(3, 4))\n",
        "print(a)\n",
        "print(a[1,0::2])"
      ],
      "metadata": {
        "colab": {
          "base_uri": "https://localhost:8080/"
        },
        "id": "85Axv5d0Tkf8",
        "outputId": "37043d2a-df08-414d-990b-1c6dadbcfba7"
      },
      "execution_count": 4,
      "outputs": [
        {
          "output_type": "stream",
          "name": "stdout",
          "text": [
            "[[ 0  1  2  3]\n",
            " [ 4  5  6  7]\n",
            " [ 8  9 10 11]]\n",
            "[4 6]\n"
          ]
        }
      ]
    },
    {
      "cell_type": "markdown",
      "source": [
        "##Replace all odd numbers in the given array with -1"
      ],
      "metadata": {
        "id": "ophuai2STEYa"
      }
    },
    {
      "cell_type": "code",
      "source": [
        "import numpy as np\n",
        "a = np.array(np.random.randint(0,10,10,int))\n",
        "print(a)\n",
        "a[a%2==1] = -1\n",
        "print(a)"
      ],
      "metadata": {
        "id": "RSEBT5l1V0-5",
        "colab": {
          "base_uri": "https://localhost:8080/"
        },
        "outputId": "c87d3772-0e8c-4086-c827-7c15ca75cc61"
      },
      "execution_count": 6,
      "outputs": [
        {
          "output_type": "stream",
          "name": "stdout",
          "text": [
            "[5 8 9 8 5 8 7 8 2 6]\n",
            "[-1  8 -1  8 -1  8 -1  8  2  6]\n"
          ]
        }
      ]
    },
    {
      "cell_type": "markdown",
      "source": [
        "##Convert a 1-D array into a 2-D array with 3 rows"
      ],
      "metadata": {
        "id": "h2X-wU-zVTB3"
      }
    },
    {
      "cell_type": "code",
      "source": [
        "import numpy as np\n",
        "a = np.array(np.arange(12))\n",
        "print(a)\n",
        "b = a.reshape(3,4)\n",
        "print(b)\n",
        "b = b + 202\n",
        "print(b)\n",
        "b.ndim\n",
        "b.shape"
      ],
      "metadata": {
        "colab": {
          "base_uri": "https://localhost:8080/"
        },
        "id": "G-6WTdEKTeU2",
        "outputId": "1d79b4c5-a0fb-46ae-be68-271362030dc5"
      },
      "execution_count": 14,
      "outputs": [
        {
          "output_type": "stream",
          "name": "stdout",
          "text": [
            "[ 0  1  2  3  4  5  6  7  8  9 10 11]\n",
            "[[ 0  1  2  3]\n",
            " [ 4  5  6  7]\n",
            " [ 8  9 10 11]]\n",
            "[[202 203 204 205]\n",
            " [206 207 208 209]\n",
            " [210 211 212 213]]\n"
          ]
        },
        {
          "output_type": "execute_result",
          "data": {
            "text/plain": [
              "(3, 4)"
            ]
          },
          "metadata": {},
          "execution_count": 14
        }
      ]
    },
    {
      "cell_type": "markdown",
      "source": [
        "##Generate a 1-D array of 10 random integers. Each integer should be a number between 30 and 40 (inclusive)"
      ],
      "metadata": {
        "id": "dwuN7Qr9cN-R"
      }
    },
    {
      "cell_type": "code",
      "source": [
        "import numpy as np\n",
        "a = np.array(np.random.randint(30,40,10))\n",
        "print(a)"
      ],
      "metadata": {
        "colab": {
          "base_uri": "https://localhost:8080/"
        },
        "id": "s-0rwSysVskB",
        "outputId": "dcca8fa4-e627-4df4-c62e-c22fdbf790e4"
      },
      "execution_count": 15,
      "outputs": [
        {
          "output_type": "stream",
          "name": "stdout",
          "text": [
            "[31 34 34 38 33 30 36 36 30 30]\n"
          ]
        }
      ]
    },
    {
      "cell_type": "markdown",
      "source": [
        "##Find the positions of:\n",
        "\n",
        "*  elements in x where its value is more than its corresponding element in y, and\n",
        "\n",
        "*  elements in x where its value is equals to its corresponding\n",
        "element in y.\n"
      ],
      "metadata": {
        "id": "EFHXwwS-eLGB"
      }
    },
    {
      "cell_type": "code",
      "source": [
        "x = np.array([21, 64, 86, 22, 74, 55, 81, 79, 90, 89])\n",
        "y = np.array([21, 7, 3, 45, 10, 29, 55, 4, 37, 18])\n",
        "print(np.where(x>y))\n",
        "print(np.where(x==y))"
      ],
      "metadata": {
        "colab": {
          "base_uri": "https://localhost:8080/"
        },
        "id": "sKgRQWnkcdZB",
        "outputId": "950acfe1-6998-4f7c-8cac-6c66fca5048f"
      },
      "execution_count": 16,
      "outputs": [
        {
          "output_type": "stream",
          "name": "stdout",
          "text": [
            "(array([1, 2, 4, 5, 6, 7, 8, 9]),)\n",
            "(array([0]),)\n"
          ]
        }
      ]
    },
    {
      "cell_type": "code",
      "source": [],
      "metadata": {
        "id": "0_sFdS8Mf5xg"
      },
      "execution_count": null,
      "outputs": []
    }
  ]
}